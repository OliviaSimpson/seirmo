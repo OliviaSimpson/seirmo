{
 "metadata": {
  "language_info": {
   "codemirror_mode": {
    "name": "ipython",
    "version": 3
   },
   "file_extension": ".py",
   "mimetype": "text/x-python",
   "name": "python",
   "nbconvert_exporter": "python",
   "pygments_lexer": "ipython3",
   "version": 3
  },
  "orig_nbformat": 2
 },
 "nbformat": 4,
 "nbformat_minor": 2,
 "cells": [
  {
   "source": [
    "# Inference for flu data in season 2019"
   ],
   "cell_type": "markdown",
   "metadata": {}
  },
  {
   "source": [
    "## Flu case incidences in season 2019"
   ],
   "cell_type": "markdown",
   "metadata": {}
  },
  {
   "cell_type": "code",
   "execution_count": null,
   "metadata": {},
   "outputs": [],
   "source": [
    "import numpy as np\n",
    "\n",
    "import seirmo as se\n",
    "\n",
    "flu_data = se.DatasetLibrary().french_flu()"
   ]
  },
  {
   "cell_type": "code",
   "execution_count": null,
   "metadata": {},
   "outputs": [],
   "source": [
    "# Plot incidences data\n",
    "plot = se.IncidenceNumberPlot()\n",
    "plot.add_data(flu_data,)"
   ]
  }
 ]
}