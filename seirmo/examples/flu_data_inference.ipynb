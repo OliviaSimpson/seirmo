{
 "cells": [
  {
   "cell_type": "markdown",
   "metadata": {},
   "source": [
    "# Inference for flu data"
   ]
  },
  {
   "cell_type": "markdown",
   "metadata": {},
   "source": [
    "## Flu case incidences"
   ]
  },
  {
   "cell_type": "code",
   "execution_count": null,
   "metadata": {},
   "outputs": [],
   "source": [
    "import numpy as np\n",
    "import pandas as pd\n",
    "\n",
    "import seirmo as se\n",
    "\n",
    "flu_data = se.DatasetLibrary().french_flu()\n",
    "flu_data = flu_data.loc[flu_data['year'] == 2010]"
   ]
  },
  {
   "cell_type": "code",
   "execution_count": 37,
   "metadata": {},
   "outputs": [
    {
     "output_type": "stream",
     "name": "stdout",
     "text": [
      "0      1\n1      2\n2      3\n3      4\n4      5\n5      6\n6      7\n7      8\n8      9\n9     10\n10    11\n11    12\n12    13\n13    14\n14    15\n15    16\n16    17\n17    18\n18    19\n19    20\n20    21\n21    22\n22    23\n23    24\n24    25\n25    26\n26    27\n27    28\n28    29\n29    30\n30    31\nName: time_index, dtype: int64\n"
     ]
    }
   ],
   "source": [
    "import numpy as np\n",
    "import os\n",
    "import pandas as pd\n",
    "\n",
    "import seirmo as se\n",
    "from seirmo import plots\n",
    "\n",
    "flu_data = pd.read_csv('/mnt/c/Users/user/Desktop/french_flu_data.csv')\n",
    "# flu_data = flu_data.loc[flu_data['time_index'] == 2010]\n",
    "# print(flu_data)\n",
    "\n",
    "# playing around with data to investigate if pints run quickly\n",
    "flu_data = flu_data.loc[:30,:]\n",
    "flu_data['inc'] = flu_data['inc']/650000\n",
    "times = flu_data['time_index']"
   ]
  },
  {
   "cell_type": "code",
   "execution_count": 38,
   "metadata": {},
   "outputs": [
    {
     "output_type": "display_data",
     "data": {
      "application/vnd.plotly.v1+json": {
       "config": {
        "plotlyServerURL": "https://plot.ly"
       },
       "data": [
        {
         "name": "cases",
         "type": "bar",
         "x": [
          1,
          2,
          3,
          4,
          5,
          6,
          7,
          8,
          9,
          10,
          11,
          12,
          13,
          14,
          15,
          16,
          17,
          18,
          19,
          20,
          21,
          22,
          23,
          24,
          25,
          26,
          27,
          28,
          29,
          30,
          31
         ],
         "y": [
          0.10526461538461539,
          0.20803538461538462,
          0.13435384615384616,
          0.11081384615384615,
          0.12095384615384615,
          0.1554969230769231,
          0.19027692307692307,
          0.15650153846153847,
          0.1305076923076923,
          0.13152153846153847,
          0.1501323076923077,
          0.32907846153846154,
          0.6537492307692307,
          0.9804646153846154,
          0.8705,
          0.7259261538461539,
          0.5998246153846154,
          0.5690692307692308,
          0.5434323076923077,
          0.4249307692307692,
          0.3772923076923077,
          0.3033938461538462,
          0.2069923076923077,
          0.09827846153846154,
          0.07748,
          0.05238923076923077,
          0.06239230769230769,
          0.06639076923076923,
          0.042916923076923075,
          0.04014769230769231,
          0.037075384615384614
         ]
        }
       ],
       "layout": {
        "template": {
         "data": {
          "bar": [
           {
            "error_x": {
             "color": "#2a3f5f"
            },
            "error_y": {
             "color": "#2a3f5f"
            },
            "marker": {
             "line": {
              "color": "#E5ECF6",
              "width": 0.5
             }
            },
            "type": "bar"
           }
          ],
          "barpolar": [
           {
            "marker": {
             "line": {
              "color": "#E5ECF6",
              "width": 0.5
             }
            },
            "type": "barpolar"
           }
          ],
          "carpet": [
           {
            "aaxis": {
             "endlinecolor": "#2a3f5f",
             "gridcolor": "white",
             "linecolor": "white",
             "minorgridcolor": "white",
             "startlinecolor": "#2a3f5f"
            },
            "baxis": {
             "endlinecolor": "#2a3f5f",
             "gridcolor": "white",
             "linecolor": "white",
             "minorgridcolor": "white",
             "startlinecolor": "#2a3f5f"
            },
            "type": "carpet"
           }
          ],
          "choropleth": [
           {
            "colorbar": {
             "outlinewidth": 0,
             "ticks": ""
            },
            "type": "choropleth"
           }
          ],
          "contour": [
           {
            "colorbar": {
             "outlinewidth": 0,
             "ticks": ""
            },
            "colorscale": [
             [
              0,
              "#0d0887"
             ],
             [
              0.1111111111111111,
              "#46039f"
             ],
             [
              0.2222222222222222,
              "#7201a8"
             ],
             [
              0.3333333333333333,
              "#9c179e"
             ],
             [
              0.4444444444444444,
              "#bd3786"
             ],
             [
              0.5555555555555556,
              "#d8576b"
             ],
             [
              0.6666666666666666,
              "#ed7953"
             ],
             [
              0.7777777777777778,
              "#fb9f3a"
             ],
             [
              0.8888888888888888,
              "#fdca26"
             ],
             [
              1,
              "#f0f921"
             ]
            ],
            "type": "contour"
           }
          ],
          "contourcarpet": [
           {
            "colorbar": {
             "outlinewidth": 0,
             "ticks": ""
            },
            "type": "contourcarpet"
           }
          ],
          "heatmap": [
           {
            "colorbar": {
             "outlinewidth": 0,
             "ticks": ""
            },
            "colorscale": [
             [
              0,
              "#0d0887"
             ],
             [
              0.1111111111111111,
              "#46039f"
             ],
             [
              0.2222222222222222,
              "#7201a8"
             ],
             [
              0.3333333333333333,
              "#9c179e"
             ],
             [
              0.4444444444444444,
              "#bd3786"
             ],
             [
              0.5555555555555556,
              "#d8576b"
             ],
             [
              0.6666666666666666,
              "#ed7953"
             ],
             [
              0.7777777777777778,
              "#fb9f3a"
             ],
             [
              0.8888888888888888,
              "#fdca26"
             ],
             [
              1,
              "#f0f921"
             ]
            ],
            "type": "heatmap"
           }
          ],
          "heatmapgl": [
           {
            "colorbar": {
             "outlinewidth": 0,
             "ticks": ""
            },
            "colorscale": [
             [
              0,
              "#0d0887"
             ],
             [
              0.1111111111111111,
              "#46039f"
             ],
             [
              0.2222222222222222,
              "#7201a8"
             ],
             [
              0.3333333333333333,
              "#9c179e"
             ],
             [
              0.4444444444444444,
              "#bd3786"
             ],
             [
              0.5555555555555556,
              "#d8576b"
             ],
             [
              0.6666666666666666,
              "#ed7953"
             ],
             [
              0.7777777777777778,
              "#fb9f3a"
             ],
             [
              0.8888888888888888,
              "#fdca26"
             ],
             [
              1,
              "#f0f921"
             ]
            ],
            "type": "heatmapgl"
           }
          ],
          "histogram": [
           {
            "marker": {
             "colorbar": {
              "outlinewidth": 0,
              "ticks": ""
             }
            },
            "type": "histogram"
           }
          ],
          "histogram2d": [
           {
            "colorbar": {
             "outlinewidth": 0,
             "ticks": ""
            },
            "colorscale": [
             [
              0,
              "#0d0887"
             ],
             [
              0.1111111111111111,
              "#46039f"
             ],
             [
              0.2222222222222222,
              "#7201a8"
             ],
             [
              0.3333333333333333,
              "#9c179e"
             ],
             [
              0.4444444444444444,
              "#bd3786"
             ],
             [
              0.5555555555555556,
              "#d8576b"
             ],
             [
              0.6666666666666666,
              "#ed7953"
             ],
             [
              0.7777777777777778,
              "#fb9f3a"
             ],
             [
              0.8888888888888888,
              "#fdca26"
             ],
             [
              1,
              "#f0f921"
             ]
            ],
            "type": "histogram2d"
           }
          ],
          "histogram2dcontour": [
           {
            "colorbar": {
             "outlinewidth": 0,
             "ticks": ""
            },
            "colorscale": [
             [
              0,
              "#0d0887"
             ],
             [
              0.1111111111111111,
              "#46039f"
             ],
             [
              0.2222222222222222,
              "#7201a8"
             ],
             [
              0.3333333333333333,
              "#9c179e"
             ],
             [
              0.4444444444444444,
              "#bd3786"
             ],
             [
              0.5555555555555556,
              "#d8576b"
             ],
             [
              0.6666666666666666,
              "#ed7953"
             ],
             [
              0.7777777777777778,
              "#fb9f3a"
             ],
             [
              0.8888888888888888,
              "#fdca26"
             ],
             [
              1,
              "#f0f921"
             ]
            ],
            "type": "histogram2dcontour"
           }
          ],
          "mesh3d": [
           {
            "colorbar": {
             "outlinewidth": 0,
             "ticks": ""
            },
            "type": "mesh3d"
           }
          ],
          "parcoords": [
           {
            "line": {
             "colorbar": {
              "outlinewidth": 0,
              "ticks": ""
             }
            },
            "type": "parcoords"
           }
          ],
          "pie": [
           {
            "automargin": true,
            "type": "pie"
           }
          ],
          "scatter": [
           {
            "marker": {
             "colorbar": {
              "outlinewidth": 0,
              "ticks": ""
             }
            },
            "type": "scatter"
           }
          ],
          "scatter3d": [
           {
            "line": {
             "colorbar": {
              "outlinewidth": 0,
              "ticks": ""
             }
            },
            "marker": {
             "colorbar": {
              "outlinewidth": 0,
              "ticks": ""
             }
            },
            "type": "scatter3d"
           }
          ],
          "scattercarpet": [
           {
            "marker": {
             "colorbar": {
              "outlinewidth": 0,
              "ticks": ""
             }
            },
            "type": "scattercarpet"
           }
          ],
          "scattergeo": [
           {
            "marker": {
             "colorbar": {
              "outlinewidth": 0,
              "ticks": ""
             }
            },
            "type": "scattergeo"
           }
          ],
          "scattergl": [
           {
            "marker": {
             "colorbar": {
              "outlinewidth": 0,
              "ticks": ""
             }
            },
            "type": "scattergl"
           }
          ],
          "scattermapbox": [
           {
            "marker": {
             "colorbar": {
              "outlinewidth": 0,
              "ticks": ""
             }
            },
            "type": "scattermapbox"
           }
          ],
          "scatterpolar": [
           {
            "marker": {
             "colorbar": {
              "outlinewidth": 0,
              "ticks": ""
             }
            },
            "type": "scatterpolar"
           }
          ],
          "scatterpolargl": [
           {
            "marker": {
             "colorbar": {
              "outlinewidth": 0,
              "ticks": ""
             }
            },
            "type": "scatterpolargl"
           }
          ],
          "scatterternary": [
           {
            "marker": {
             "colorbar": {
              "outlinewidth": 0,
              "ticks": ""
             }
            },
            "type": "scatterternary"
           }
          ],
          "surface": [
           {
            "colorbar": {
             "outlinewidth": 0,
             "ticks": ""
            },
            "colorscale": [
             [
              0,
              "#0d0887"
             ],
             [
              0.1111111111111111,
              "#46039f"
             ],
             [
              0.2222222222222222,
              "#7201a8"
             ],
             [
              0.3333333333333333,
              "#9c179e"
             ],
             [
              0.4444444444444444,
              "#bd3786"
             ],
             [
              0.5555555555555556,
              "#d8576b"
             ],
             [
              0.6666666666666666,
              "#ed7953"
             ],
             [
              0.7777777777777778,
              "#fb9f3a"
             ],
             [
              0.8888888888888888,
              "#fdca26"
             ],
             [
              1,
              "#f0f921"
             ]
            ],
            "type": "surface"
           }
          ],
          "table": [
           {
            "cells": {
             "fill": {
              "color": "#EBF0F8"
             },
             "line": {
              "color": "white"
             }
            },
            "header": {
             "fill": {
              "color": "#C8D4E3"
             },
             "line": {
              "color": "white"
             }
            },
            "type": "table"
           }
          ]
         },
         "layout": {
          "annotationdefaults": {
           "arrowcolor": "#2a3f5f",
           "arrowhead": 0,
           "arrowwidth": 1
          },
          "autotypenumbers": "strict",
          "coloraxis": {
           "colorbar": {
            "outlinewidth": 0,
            "ticks": ""
           }
          },
          "colorscale": {
           "diverging": [
            [
             0,
             "#8e0152"
            ],
            [
             0.1,
             "#c51b7d"
            ],
            [
             0.2,
             "#de77ae"
            ],
            [
             0.3,
             "#f1b6da"
            ],
            [
             0.4,
             "#fde0ef"
            ],
            [
             0.5,
             "#f7f7f7"
            ],
            [
             0.6,
             "#e6f5d0"
            ],
            [
             0.7,
             "#b8e186"
            ],
            [
             0.8,
             "#7fbc41"
            ],
            [
             0.9,
             "#4d9221"
            ],
            [
             1,
             "#276419"
            ]
           ],
           "sequential": [
            [
             0,
             "#0d0887"
            ],
            [
             0.1111111111111111,
             "#46039f"
            ],
            [
             0.2222222222222222,
             "#7201a8"
            ],
            [
             0.3333333333333333,
             "#9c179e"
            ],
            [
             0.4444444444444444,
             "#bd3786"
            ],
            [
             0.5555555555555556,
             "#d8576b"
            ],
            [
             0.6666666666666666,
             "#ed7953"
            ],
            [
             0.7777777777777778,
             "#fb9f3a"
            ],
            [
             0.8888888888888888,
             "#fdca26"
            ],
            [
             1,
             "#f0f921"
            ]
           ],
           "sequentialminus": [
            [
             0,
             "#0d0887"
            ],
            [
             0.1111111111111111,
             "#46039f"
            ],
            [
             0.2222222222222222,
             "#7201a8"
            ],
            [
             0.3333333333333333,
             "#9c179e"
            ],
            [
             0.4444444444444444,
             "#bd3786"
            ],
            [
             0.5555555555555556,
             "#d8576b"
            ],
            [
             0.6666666666666666,
             "#ed7953"
            ],
            [
             0.7777777777777778,
             "#fb9f3a"
            ],
            [
             0.8888888888888888,
             "#fdca26"
            ],
            [
             1,
             "#f0f921"
            ]
           ]
          },
          "colorway": [
           "#636efa",
           "#EF553B",
           "#00cc96",
           "#ab63fa",
           "#FFA15A",
           "#19d3f3",
           "#FF6692",
           "#B6E880",
           "#FF97FF",
           "#FECB52"
          ],
          "font": {
           "color": "#2a3f5f"
          },
          "geo": {
           "bgcolor": "white",
           "lakecolor": "white",
           "landcolor": "#E5ECF6",
           "showlakes": true,
           "showland": true,
           "subunitcolor": "white"
          },
          "hoverlabel": {
           "align": "left"
          },
          "hovermode": "closest",
          "mapbox": {
           "style": "light"
          },
          "paper_bgcolor": "white",
          "plot_bgcolor": "#E5ECF6",
          "polar": {
           "angularaxis": {
            "gridcolor": "white",
            "linecolor": "white",
            "ticks": ""
           },
           "bgcolor": "#E5ECF6",
           "radialaxis": {
            "gridcolor": "white",
            "linecolor": "white",
            "ticks": ""
           }
          },
          "scene": {
           "xaxis": {
            "backgroundcolor": "#E5ECF6",
            "gridcolor": "white",
            "gridwidth": 2,
            "linecolor": "white",
            "showbackground": true,
            "ticks": "",
            "zerolinecolor": "white"
           },
           "yaxis": {
            "backgroundcolor": "#E5ECF6",
            "gridcolor": "white",
            "gridwidth": 2,
            "linecolor": "white",
            "showbackground": true,
            "ticks": "",
            "zerolinecolor": "white"
           },
           "zaxis": {
            "backgroundcolor": "#E5ECF6",
            "gridcolor": "white",
            "gridwidth": 2,
            "linecolor": "white",
            "showbackground": true,
            "ticks": "",
            "zerolinecolor": "white"
           }
          },
          "shapedefaults": {
           "line": {
            "color": "#2a3f5f"
           }
          },
          "ternary": {
           "aaxis": {
            "gridcolor": "white",
            "linecolor": "white",
            "ticks": ""
           },
           "baxis": {
            "gridcolor": "white",
            "linecolor": "white",
            "ticks": ""
           },
           "bgcolor": "#E5ECF6",
           "caxis": {
            "gridcolor": "white",
            "linecolor": "white",
            "ticks": ""
           }
          },
          "title": {
           "x": 0.05
          },
          "xaxis": {
           "automargin": true,
           "gridcolor": "white",
           "linecolor": "white",
           "ticks": "",
           "title": {
            "standoff": 15
           },
           "zerolinecolor": "white",
           "zerolinewidth": 2
          },
          "yaxis": {
           "automargin": true,
           "gridcolor": "white",
           "linecolor": "white",
           "ticks": "",
           "title": {
            "standoff": 15
           },
           "zerolinecolor": "white",
           "zerolinewidth": 2
          }
         }
        },
        "xaxis": {
         "title": {
          "text": "time_index"
         }
        },
        "yaxis": {
         "title": {
          "text": "inc"
         }
        }
       }
      },
      "text/html": "<div>                            <div id=\"0b99a3a8-de49-4750-87ec-22dd3365e22f\" class=\"plotly-graph-div\" style=\"height:525px; width:100%;\"></div>            <script type=\"text/javascript\">                require([\"plotly\"], function(Plotly) {                    window.PLOTLYENV=window.PLOTLYENV || {};                                    if (document.getElementById(\"0b99a3a8-de49-4750-87ec-22dd3365e22f\")) {                    Plotly.newPlot(                        \"0b99a3a8-de49-4750-87ec-22dd3365e22f\",                        [{\"name\": \"cases\", \"type\": \"bar\", \"x\": [1, 2, 3, 4, 5, 6, 7, 8, 9, 10, 11, 12, 13, 14, 15, 16, 17, 18, 19, 20, 21, 22, 23, 24, 25, 26, 27, 28, 29, 30, 31], \"y\": [0.10526461538461539, 0.20803538461538462, 0.13435384615384616, 0.11081384615384615, 0.12095384615384615, 0.1554969230769231, 0.19027692307692307, 0.15650153846153847, 0.1305076923076923, 0.13152153846153847, 0.1501323076923077, 0.32907846153846154, 0.6537492307692307, 0.9804646153846154, 0.8705, 0.7259261538461539, 0.5998246153846154, 0.5690692307692308, 0.5434323076923077, 0.4249307692307692, 0.3772923076923077, 0.3033938461538462, 0.2069923076923077, 0.09827846153846154, 0.07748, 0.05238923076923077, 0.06239230769230769, 0.06639076923076923, 0.042916923076923075, 0.04014769230769231, 0.037075384615384614]}],                        {\"template\": {\"data\": {\"bar\": [{\"error_x\": {\"color\": \"#2a3f5f\"}, \"error_y\": {\"color\": \"#2a3f5f\"}, \"marker\": {\"line\": {\"color\": \"#E5ECF6\", \"width\": 0.5}}, \"type\": \"bar\"}], \"barpolar\": [{\"marker\": {\"line\": {\"color\": \"#E5ECF6\", \"width\": 0.5}}, \"type\": \"barpolar\"}], \"carpet\": [{\"aaxis\": {\"endlinecolor\": \"#2a3f5f\", \"gridcolor\": \"white\", \"linecolor\": \"white\", \"minorgridcolor\": \"white\", \"startlinecolor\": \"#2a3f5f\"}, \"baxis\": {\"endlinecolor\": \"#2a3f5f\", \"gridcolor\": \"white\", \"linecolor\": \"white\", \"minorgridcolor\": \"white\", \"startlinecolor\": \"#2a3f5f\"}, \"type\": \"carpet\"}], \"choropleth\": [{\"colorbar\": {\"outlinewidth\": 0, \"ticks\": \"\"}, \"type\": \"choropleth\"}], \"contour\": [{\"colorbar\": {\"outlinewidth\": 0, \"ticks\": \"\"}, \"colorscale\": [[0.0, \"#0d0887\"], [0.1111111111111111, \"#46039f\"], [0.2222222222222222, \"#7201a8\"], [0.3333333333333333, \"#9c179e\"], [0.4444444444444444, \"#bd3786\"], [0.5555555555555556, \"#d8576b\"], [0.6666666666666666, \"#ed7953\"], [0.7777777777777778, \"#fb9f3a\"], [0.8888888888888888, \"#fdca26\"], [1.0, \"#f0f921\"]], \"type\": \"contour\"}], \"contourcarpet\": [{\"colorbar\": {\"outlinewidth\": 0, \"ticks\": \"\"}, \"type\": \"contourcarpet\"}], \"heatmap\": [{\"colorbar\": {\"outlinewidth\": 0, \"ticks\": \"\"}, \"colorscale\": [[0.0, \"#0d0887\"], [0.1111111111111111, \"#46039f\"], [0.2222222222222222, \"#7201a8\"], [0.3333333333333333, \"#9c179e\"], [0.4444444444444444, \"#bd3786\"], [0.5555555555555556, \"#d8576b\"], [0.6666666666666666, \"#ed7953\"], [0.7777777777777778, \"#fb9f3a\"], [0.8888888888888888, \"#fdca26\"], [1.0, \"#f0f921\"]], \"type\": \"heatmap\"}], \"heatmapgl\": [{\"colorbar\": {\"outlinewidth\": 0, \"ticks\": \"\"}, \"colorscale\": [[0.0, \"#0d0887\"], [0.1111111111111111, \"#46039f\"], [0.2222222222222222, \"#7201a8\"], [0.3333333333333333, \"#9c179e\"], [0.4444444444444444, \"#bd3786\"], [0.5555555555555556, \"#d8576b\"], [0.6666666666666666, \"#ed7953\"], [0.7777777777777778, \"#fb9f3a\"], [0.8888888888888888, \"#fdca26\"], [1.0, \"#f0f921\"]], \"type\": \"heatmapgl\"}], \"histogram\": [{\"marker\": {\"colorbar\": {\"outlinewidth\": 0, \"ticks\": \"\"}}, \"type\": \"histogram\"}], \"histogram2d\": [{\"colorbar\": {\"outlinewidth\": 0, \"ticks\": \"\"}, \"colorscale\": [[0.0, \"#0d0887\"], [0.1111111111111111, \"#46039f\"], [0.2222222222222222, \"#7201a8\"], [0.3333333333333333, \"#9c179e\"], [0.4444444444444444, \"#bd3786\"], [0.5555555555555556, \"#d8576b\"], [0.6666666666666666, \"#ed7953\"], [0.7777777777777778, \"#fb9f3a\"], [0.8888888888888888, \"#fdca26\"], [1.0, \"#f0f921\"]], \"type\": \"histogram2d\"}], \"histogram2dcontour\": [{\"colorbar\": {\"outlinewidth\": 0, \"ticks\": \"\"}, \"colorscale\": [[0.0, \"#0d0887\"], [0.1111111111111111, \"#46039f\"], [0.2222222222222222, \"#7201a8\"], [0.3333333333333333, \"#9c179e\"], [0.4444444444444444, \"#bd3786\"], [0.5555555555555556, \"#d8576b\"], [0.6666666666666666, \"#ed7953\"], [0.7777777777777778, \"#fb9f3a\"], [0.8888888888888888, \"#fdca26\"], [1.0, \"#f0f921\"]], \"type\": \"histogram2dcontour\"}], \"mesh3d\": [{\"colorbar\": {\"outlinewidth\": 0, \"ticks\": \"\"}, \"type\": \"mesh3d\"}], \"parcoords\": [{\"line\": {\"colorbar\": {\"outlinewidth\": 0, \"ticks\": \"\"}}, \"type\": \"parcoords\"}], \"pie\": [{\"automargin\": true, \"type\": \"pie\"}], \"scatter\": [{\"marker\": {\"colorbar\": {\"outlinewidth\": 0, \"ticks\": \"\"}}, \"type\": \"scatter\"}], \"scatter3d\": [{\"line\": {\"colorbar\": {\"outlinewidth\": 0, \"ticks\": \"\"}}, \"marker\": {\"colorbar\": {\"outlinewidth\": 0, \"ticks\": \"\"}}, \"type\": \"scatter3d\"}], \"scattercarpet\": [{\"marker\": {\"colorbar\": {\"outlinewidth\": 0, \"ticks\": \"\"}}, \"type\": \"scattercarpet\"}], \"scattergeo\": [{\"marker\": {\"colorbar\": {\"outlinewidth\": 0, \"ticks\": \"\"}}, \"type\": \"scattergeo\"}], \"scattergl\": [{\"marker\": {\"colorbar\": {\"outlinewidth\": 0, \"ticks\": \"\"}}, \"type\": \"scattergl\"}], \"scattermapbox\": [{\"marker\": {\"colorbar\": {\"outlinewidth\": 0, \"ticks\": \"\"}}, \"type\": \"scattermapbox\"}], \"scatterpolar\": [{\"marker\": {\"colorbar\": {\"outlinewidth\": 0, \"ticks\": \"\"}}, \"type\": \"scatterpolar\"}], \"scatterpolargl\": [{\"marker\": {\"colorbar\": {\"outlinewidth\": 0, \"ticks\": \"\"}}, \"type\": \"scatterpolargl\"}], \"scatterternary\": [{\"marker\": {\"colorbar\": {\"outlinewidth\": 0, \"ticks\": \"\"}}, \"type\": \"scatterternary\"}], \"surface\": [{\"colorbar\": {\"outlinewidth\": 0, \"ticks\": \"\"}, \"colorscale\": [[0.0, \"#0d0887\"], [0.1111111111111111, \"#46039f\"], [0.2222222222222222, \"#7201a8\"], [0.3333333333333333, \"#9c179e\"], [0.4444444444444444, \"#bd3786\"], [0.5555555555555556, \"#d8576b\"], [0.6666666666666666, \"#ed7953\"], [0.7777777777777778, \"#fb9f3a\"], [0.8888888888888888, \"#fdca26\"], [1.0, \"#f0f921\"]], \"type\": \"surface\"}], \"table\": [{\"cells\": {\"fill\": {\"color\": \"#EBF0F8\"}, \"line\": {\"color\": \"white\"}}, \"header\": {\"fill\": {\"color\": \"#C8D4E3\"}, \"line\": {\"color\": \"white\"}}, \"type\": \"table\"}]}, \"layout\": {\"annotationdefaults\": {\"arrowcolor\": \"#2a3f5f\", \"arrowhead\": 0, \"arrowwidth\": 1}, \"autotypenumbers\": \"strict\", \"coloraxis\": {\"colorbar\": {\"outlinewidth\": 0, \"ticks\": \"\"}}, \"colorscale\": {\"diverging\": [[0, \"#8e0152\"], [0.1, \"#c51b7d\"], [0.2, \"#de77ae\"], [0.3, \"#f1b6da\"], [0.4, \"#fde0ef\"], [0.5, \"#f7f7f7\"], [0.6, \"#e6f5d0\"], [0.7, \"#b8e186\"], [0.8, \"#7fbc41\"], [0.9, \"#4d9221\"], [1, \"#276419\"]], \"sequential\": [[0.0, \"#0d0887\"], [0.1111111111111111, \"#46039f\"], [0.2222222222222222, \"#7201a8\"], [0.3333333333333333, \"#9c179e\"], [0.4444444444444444, \"#bd3786\"], [0.5555555555555556, \"#d8576b\"], [0.6666666666666666, \"#ed7953\"], [0.7777777777777778, \"#fb9f3a\"], [0.8888888888888888, \"#fdca26\"], [1.0, \"#f0f921\"]], \"sequentialminus\": [[0.0, \"#0d0887\"], [0.1111111111111111, \"#46039f\"], [0.2222222222222222, \"#7201a8\"], [0.3333333333333333, \"#9c179e\"], [0.4444444444444444, \"#bd3786\"], [0.5555555555555556, \"#d8576b\"], [0.6666666666666666, \"#ed7953\"], [0.7777777777777778, \"#fb9f3a\"], [0.8888888888888888, \"#fdca26\"], [1.0, \"#f0f921\"]]}, \"colorway\": [\"#636efa\", \"#EF553B\", \"#00cc96\", \"#ab63fa\", \"#FFA15A\", \"#19d3f3\", \"#FF6692\", \"#B6E880\", \"#FF97FF\", \"#FECB52\"], \"font\": {\"color\": \"#2a3f5f\"}, \"geo\": {\"bgcolor\": \"white\", \"lakecolor\": \"white\", \"landcolor\": \"#E5ECF6\", \"showlakes\": true, \"showland\": true, \"subunitcolor\": \"white\"}, \"hoverlabel\": {\"align\": \"left\"}, \"hovermode\": \"closest\", \"mapbox\": {\"style\": \"light\"}, \"paper_bgcolor\": \"white\", \"plot_bgcolor\": \"#E5ECF6\", \"polar\": {\"angularaxis\": {\"gridcolor\": \"white\", \"linecolor\": \"white\", \"ticks\": \"\"}, \"bgcolor\": \"#E5ECF6\", \"radialaxis\": {\"gridcolor\": \"white\", \"linecolor\": \"white\", \"ticks\": \"\"}}, \"scene\": {\"xaxis\": {\"backgroundcolor\": \"#E5ECF6\", \"gridcolor\": \"white\", \"gridwidth\": 2, \"linecolor\": \"white\", \"showbackground\": true, \"ticks\": \"\", \"zerolinecolor\": \"white\"}, \"yaxis\": {\"backgroundcolor\": \"#E5ECF6\", \"gridcolor\": \"white\", \"gridwidth\": 2, \"linecolor\": \"white\", \"showbackground\": true, \"ticks\": \"\", \"zerolinecolor\": \"white\"}, \"zaxis\": {\"backgroundcolor\": \"#E5ECF6\", \"gridcolor\": \"white\", \"gridwidth\": 2, \"linecolor\": \"white\", \"showbackground\": true, \"ticks\": \"\", \"zerolinecolor\": \"white\"}}, \"shapedefaults\": {\"line\": {\"color\": \"#2a3f5f\"}}, \"ternary\": {\"aaxis\": {\"gridcolor\": \"white\", \"linecolor\": \"white\", \"ticks\": \"\"}, \"baxis\": {\"gridcolor\": \"white\", \"linecolor\": \"white\", \"ticks\": \"\"}, \"bgcolor\": \"#E5ECF6\", \"caxis\": {\"gridcolor\": \"white\", \"linecolor\": \"white\", \"ticks\": \"\"}}, \"title\": {\"x\": 0.05}, \"xaxis\": {\"automargin\": true, \"gridcolor\": \"white\", \"linecolor\": \"white\", \"ticks\": \"\", \"title\": {\"standoff\": 15}, \"zerolinecolor\": \"white\", \"zerolinewidth\": 2}, \"yaxis\": {\"automargin\": true, \"gridcolor\": \"white\", \"linecolor\": \"white\", \"ticks\": \"\", \"title\": {\"standoff\": 15}, \"zerolinecolor\": \"white\", \"zerolinewidth\": 2}}}, \"xaxis\": {\"title\": {\"text\": \"time_index\"}}, \"yaxis\": {\"title\": {\"text\": \"inc\"}}},                        {\"responsive\": true}                    ).then(function(){\n                            \nvar gd = document.getElementById('0b99a3a8-de49-4750-87ec-22dd3365e22f');\nvar x = new MutationObserver(function (mutations, observer) {{\n        var display = window.getComputedStyle(gd).display;\n        if (!display || display === 'none') {{\n            console.log([gd, 'removed!']);\n            Plotly.purge(gd);\n            observer.disconnect();\n        }}\n}});\n\n// Listen for the removal of the full notebook cells\nvar notebookContainer = gd.closest('#notebook-container');\nif (notebookContainer) {{\n    x.observe(notebookContainer, {childList: true});\n}}\n\n// Listen for the clearing of the current output cell\nvar outputEl = gd.closest('.output');\nif (outputEl) {{\n    x.observe(outputEl, {childList: true});\n}}\n\n                        })                };                });            </script>        </div>"
     },
     "metadata": {}
    }
   ],
   "source": [
    "# Plot incidences data\n",
    "plot = plots.IncidenceNumberPlot()\n",
    "plot.add_data(flu_data, time_key='time_index', inc_key='inc')\n",
    "plot.show()"
   ]
  },
  {
   "cell_type": "markdown",
   "metadata": {},
   "source": [
    "## Model parameters inference"
   ]
  },
  {
   "cell_type": "code",
   "execution_count": 39,
   "metadata": {},
   "outputs": [],
   "source": [
    "import pints\n",
    "\n",
    "class SEIRModel(pints.ForwardModel):\n",
    "    def __init__(self):\n",
    "        super(SEIRModel, self).__init__()\n",
    "\n",
    "        self._model = se.SEIRModel()\n",
    "    \n",
    "    def n_outputs(self):\n",
    "        # Returns number of model outputs.\n",
    "        # Returns only incidence number, in line with the flu data\n",
    "        return 1\n",
    "\n",
    "    def n_parameters(self):\n",
    "        # Returns number of parameters, i.e. 4 initial condition and 3 parameters.\n",
    "        return 7\n",
    "    \n",
    "    def simulate(self, log_parameters, times):\n",
    "        output = self._model.simulate(parameters=np.exp(log_parameters), times=times, return_incidence=True)\n",
    "        n_incidence = output[:,4]\n",
    "\n",
    "        return n_incidence"
   ]
  },
  {
   "cell_type": "code",
   "execution_count": 40,
   "metadata": {},
   "outputs": [],
   "source": [
    "# Guess on starting points of samplers\n",
    "# parameter_guess = np.array([5, 4, 4, 0, 0.5, 0.5, 0.1, 0.1])\n",
    "parameter_guess = np.array([0.7, 0, 0.3, 0, 0.5, 0.5, 0.1, 0.05])"
   ]
  },
  {
   "cell_type": "markdown",
   "metadata": {},
   "source": [
    "# User of pints' SingleOutputProblem and GaussianLogLikelihood"
   ]
  },
  {
   "cell_type": "code",
   "execution_count": 41,
   "metadata": {},
   "outputs": [],
   "source": [
    "# Create log-likelihood\n",
    "pints_model = SEIRModel()\n",
    "problem = pints.SingleOutputProblem(pints_model, times, flu_data['inc'])\n",
    "log_likelihood = pints.GaussianLogLikelihood(problem)\n",
    "# log_likelihood = pints.GaussianKnownSigmaLogLikelihood(problem, sigma=0.05)\n",
    "\n",
    "# Run sampling routines\n",
    "optimiser = pints.OptimisationController(\n",
    "    function=log_likelihood,\n",
    "    x0=parameter_guess,\n",
    "    method=pints.CMAES\n",
    ")\n"
   ]
  },
  {
   "cell_type": "code",
   "execution_count": 42,
   "metadata": {
    "tags": [
     "outputPrepend"
    ]
   },
   "outputs": [
    {
     "output_type": "stream",
     "name": "stdout",
     "text": [
      "557   1:15.3\n",
      "358   3590   30.88572   1:15.5\n",
      "359   3600   30.88576   1:15.7\n",
      "360   3610   30.88577   1:15.9\n",
      "361   3620   30.88588   1:16.2\n",
      "362   3630   30.88588   1:16.4\n",
      "363   3640   30.88588   1:16.6\n",
      "364   3650   30.88602   1:16.9\n",
      "365   3660   30.88602   1:17.1\n",
      "366   3670   30.88602   1:17.3\n",
      "367   3680   30.88602   1:17.5\n",
      "368   3690   30.88614   1:17.7\n",
      "369   3700   30.88615   1:18.0\n",
      "370   3710   30.88619   1:18.2\n",
      "371   3720   30.8862    1:18.5\n",
      "372   3730   30.88627   1:18.7\n",
      "373   3740   30.88627   1:18.9\n",
      "374   3750   30.8863    1:19.2\n",
      "375   3760   30.8864    1:19.4\n",
      "376   3770   30.88643   1:19.6\n",
      "377   3780   30.88643   1:19.8\n",
      "378   3790   30.88643   1:20.1\n",
      "379   3800   30.88653   1:20.3\n",
      "380   3810   30.88659   1:20.6\n",
      "381   3820   30.88659   1:20.8\n",
      "382   3830   30.88659   1:21.0\n",
      "383   3840   30.88659   1:21.2\n",
      "384   3850   30.88659   1:21.5\n",
      "385   3860   30.88659   1:21.7\n",
      "386   3870   30.88665   1:21.9\n",
      "387   3880   30.88669   1:22.1\n",
      "388   3890   30.88669   1:22.3\n",
      "389   3900   30.88674   1:22.6\n",
      "390   3910   30.88674   1:22.8\n",
      "391   3920   30.88674   1:23.1\n",
      "392   3930   30.88677   1:23.3\n",
      "393   3940   30.88677   1:23.6\n",
      "394   3950   30.88677   1:23.8\n",
      "395   3960   30.88681   1:24.1\n",
      "396   3970   30.88681   1:24.3\n",
      "397   3980   30.88681   1:24.5\n",
      "398   3990   30.88682   1:24.8\n",
      "399   4000   30.88682   1:25.0\n",
      "400   4010   30.88686   1:25.3\n",
      "401   4020   30.88688   1:25.5\n",
      "402   4030   30.88688   1:25.7\n",
      "403   4040   30.88688   1:26.0\n",
      "404   4050   30.88688   1:26.2\n",
      "405   4060   30.88689   1:26.5\n",
      "406   4070   30.88689   1:26.8\n",
      "407   4080   30.8869    1:27.1\n",
      "408   4090   30.88695   1:27.3\n",
      "409   4100   30.88695   1:27.5\n",
      "410   4110   30.88695   1:27.7\n",
      "411   4120   30.88695   1:28.0\n",
      "412   4130   30.88696   1:28.3\n",
      "413   4140   30.88696   1:28.5\n",
      "414   4150   30.88697   1:28.7\n",
      "415   4160   30.88697   1:29.0\n",
      "416   4170   30.887     1:29.2\n",
      "417   4180   30.887     1:29.5\n",
      "418   4190   30.88701   1:29.7\n",
      "419   4200   30.88702   1:30.0\n",
      "420   4210   30.88703   1:30.3\n",
      "421   4220   30.88709   1:30.7\n",
      "422   4230   30.88709   1:31.0\n",
      "423   4240   30.88709   1:31.3\n",
      "424   4250   30.88709   1:31.5\n",
      "425   4260   30.8871    1:31.7\n",
      "426   4270   30.8871    1:32.0\n",
      "427   4280   30.8871    1:32.2\n",
      "428   4290   30.8871    1:32.5\n",
      "429   4300   30.8871    1:32.7\n",
      "430   4310   30.8871    1:32.9\n",
      "431   4320   30.8871    1:33.1\n",
      "432   4330   30.88711   1:33.3\n",
      "433   4340   30.88712   1:33.6\n",
      "434   4350   30.88712   1:33.8\n",
      "435   4360   30.88713   1:34.1\n",
      "436   4370   30.88713   1:34.3\n",
      "437   4380   30.88713   1:34.5\n",
      "438   4390   30.88713   1:34.8\n",
      "439   4400   30.88713   1:35.1\n",
      "440   4410   30.88714   1:35.5\n",
      "441   4420   30.88714   1:35.9\n",
      "442   4430   30.88715   1:36.2\n",
      "443   4440   30.88715   1:36.8\n",
      "444   4450   30.88715   1:37.3\n",
      "445   4460   30.88715   1:37.8\n",
      "446   4470   30.88715   1:38.1\n",
      "447   4480   30.88715   1:38.5\n",
      "448   4490   30.88716   1:39.0\n",
      "449   4500   30.88716   1:39.3\n",
      "450   4510   30.88716   1:39.7\n",
      "451   4520   30.88716   1:40.3\n",
      "452   4530   30.88716   1:40.7\n",
      "453   4540   30.88717   1:41.1\n",
      "454   4550   30.88717   1:41.5\n",
      "455   4560   30.88717   1:42.0\n",
      "456   4570   30.88717   1:42.3\n",
      "457   4580   30.88717   1:42.8\n",
      "458   4590   30.88717   1:43.3\n",
      "459   4600   30.88717   1:43.8\n",
      "460   4610   30.88717   1:44.2\n",
      "461   4620   30.88717   1:44.4\n",
      "462   4630   30.88717   1:44.7\n",
      "463   4640   30.88717   1:44.9\n",
      "464   4650   30.88717   1:45.2\n",
      "465   4660   30.88717   1:45.4\n",
      "466   4670   30.88718   1:45.7\n",
      "467   4680   30.88718   1:45.9\n",
      "468   4690   30.88718   1:46.2\n",
      "469   4700   30.88718   1:46.6\n",
      "470   4710   30.88718   1:46.8\n",
      "471   4720   30.88718   1:47.1\n",
      "472   4730   30.88718   1:47.4\n",
      "473   4740   30.88718   1:47.6\n",
      "474   4750   30.88718   1:47.9\n",
      "475   4760   30.88718   1:48.2\n",
      "476   4770   30.88718   1:48.5\n",
      "477   4780   30.88718   1:48.8\n",
      "478   4790   30.88718   1:49.0\n",
      "479   4800   30.88718   1:49.5\n",
      "480   4810   30.88718   1:50.0\n",
      "481   4820   30.88718   1:50.4\n",
      "482   4830   30.88718   1:50.8\n",
      "483   4840   30.88718   1:51.1\n",
      "484   4850   30.88718   1:51.4\n",
      "485   4860   30.88718   1:51.6\n",
      "486   4870   30.88718   1:51.9\n",
      "487   4880   30.88718   1:52.1\n",
      "488   4890   30.88718   1:52.4\n",
      "489   4900   30.88718   1:52.6\n",
      "490   4910   30.88718   1:52.9\n",
      "491   4920   30.88718   1:53.1\n",
      "492   4930   30.88718   1:53.4\n",
      "493   4940   30.88718   1:53.6\n",
      "494   4950   30.88718   1:53.8\n",
      "495   4960   30.88718   1:54.1\n",
      "496   4970   30.88718   1:54.3\n",
      "497   4980   30.88718   1:54.6\n",
      "498   4990   30.88718   1:54.8\n",
      "499   5000   30.88718   1:55.0\n",
      "500   5010   30.88718   1:55.3\n",
      "501   5020   30.88718   1:55.5\n",
      "502   5030   30.88718   1:55.8\n",
      "503   5040   30.88718   1:56.0\n",
      "504   5050   30.88718   1:56.3\n",
      "505   5060   30.88718   1:56.6\n",
      "506   5070   30.88718   1:56.8\n",
      "507   5080   30.88718   1:57.1\n",
      "508   5090   30.88718   1:57.3\n",
      "509   5100   30.88718   1:57.6\n",
      "510   5110   30.88718   1:57.8\n",
      "511   5120   30.88718   1:58.1\n",
      "512   5130   30.88718   1:58.4\n",
      "513   5140   30.88718   1:58.6\n",
      "514   5150   30.88718   1:59.0\n",
      "515   5160   30.88718   1:59.2\n",
      "516   5170   30.88718   1:59.5\n",
      "517   5180   30.88718   1:59.7\n",
      "518   5190   30.88718   2:00.0\n",
      "519   5200   30.88718   2:00.2\n",
      "520   5210   30.88718   2:00.5\n",
      "521   5220   30.88718   2:00.7\n",
      "522   5230   30.88718   2:00.9\n",
      "523   5240   30.88718   2:01.2\n",
      "524   5250   30.88718   2:01.4\n",
      "525   5260   30.88718   2:01.6\n",
      "526   5270   30.88718   2:01.9\n",
      "527   5280   30.88718   2:02.2\n",
      "528   5290   30.88718   2:02.4\n",
      "529   5300   30.88718   2:02.6\n",
      "530   5310   30.88718   2:02.9\n",
      "531   5320   30.88718   2:03.1\n",
      "532   5330   30.88718   2:03.3\n",
      "533   5340   30.88718   2:03.5\n",
      "534   5350   30.88718   2:03.8\n",
      "535   5360   30.88718   2:04.1\n",
      "536   5370   30.88718   2:04.3\n",
      "537   5380   30.88718   2:04.5\n",
      "538   5390   30.88718   2:04.8\n",
      "539   5400   30.88718   2:05.0\n",
      "540   5410   30.88718   2:05.3\n",
      "541   5420   30.88718   2:05.5\n",
      "542   5430   30.88718   2:05.7\n",
      "543   5440   30.88718   2:05.9\n",
      "544   5450   30.88718   2:06.2\n",
      "545   5460   30.88718   2:06.4\n",
      "546   5470   30.88718   2:06.6\n",
      "547   5480   30.88718   2:06.9\n",
      "548   5490   30.88718   2:07.1\n",
      "549   5500   30.88718   2:07.3\n",
      "550   5510   30.88718   2:07.6\n",
      "551   5520   30.88718   2:07.8\n",
      "552   5530   30.88718   2:08.0\n",
      "553   5540   30.88718   2:08.3\n",
      "554   5550   30.88718   2:08.5\n",
      "555   5560   30.88718   2:08.7\n",
      "556   5570   30.88718   2:08.9\n",
      "557   5580   30.88718   2:09.1\n",
      "558   5590   30.88718   2:09.4\n",
      "559   5600   30.88718   2:09.6\n",
      "560   5610   30.88718   2:09.8\n",
      "561   5620   30.88718   2:10.1\n",
      "562   5630   30.88718   2:10.3\n",
      "563   5640   30.88718   2:10.5\n",
      "564   5650   30.88718   2:10.8\n",
      "565   5660   30.88718   2:11.0\n",
      "566   5670   30.88718   2:11.3\n",
      "567   5680   30.88718   2:11.6\n",
      "568   5690   30.88718   2:11.8\n",
      "569   5700   30.88718   2:12.1\n",
      "570   5710   30.88718   2:12.4\n",
      "571   5720   30.88718   2:12.6\n",
      "572   5730   30.88718   2:12.8\n",
      "573   5740   30.88718   2:13.0\n",
      "574   5750   30.88718   2:13.3\n",
      "575   5760   30.88718   2:13.6\n",
      "576   5770   30.88718   2:13.8\n",
      "577   5780   30.88718   2:14.0\n",
      "578   5790   30.88718   2:14.3\n",
      "579   5800   30.88718   2:14.5\n",
      "580   5810   30.88718   2:14.7\n",
      "581   5820   30.88718   2:14.9\n",
      "582   5830   30.88718   2:15.2\n",
      "583   5840   30.88718   2:15.4\n",
      "584   5850   30.88718   2:15.7\n",
      "585   5860   30.88718   2:15.9\n",
      "586   5870   30.88718   2:16.2\n",
      "587   5880   30.88718   2:16.4\n",
      "588   5890   30.88718   2:16.6\n",
      "589   5900   30.88718   2:16.8\n",
      "590   5910   30.88718   2:17.0\n",
      "591   5920   30.88718   2:17.3\n",
      "592   5930   30.88718   2:17.5\n",
      "593   5940   30.88718   2:17.7\n",
      "594   5950   30.88718   2:18.0\n",
      "595   5960   30.88718   2:18.2\n",
      "596   5970   30.88718   2:18.5\n",
      "597   5980   30.88718   2:18.7\n",
      "598   5990   30.88718   2:18.9\n",
      "599   6000   30.88718   2:19.1\n",
      "600   6010   30.88718   2:19.4\n",
      "601   6020   30.88718   2:19.6\n",
      "602   6030   30.88718   2:19.9\n",
      "603   6040   30.88718   2:20.2\n",
      "604   6050   30.88718   2:20.4\n",
      "605   6060   30.88718   2:20.6\n",
      "606   6070   30.88718   2:20.8\n",
      "607   6080   30.88718   2:21.1\n",
      "608   6090   30.88718   2:21.3\n",
      "609   6100   30.88718   2:21.6\n",
      "610   6110   30.88718   2:21.8\n",
      "611   6120   30.88718   2:22.0\n",
      "612   6130   30.88718   2:22.2\n",
      "613   6140   30.88718   2:22.4\n",
      "614   6150   30.88718   2:22.7\n",
      "615   6160   30.88718   2:22.9\n",
      "616   6170   30.88718   2:23.2\n",
      "617   6180   30.88718   2:23.4\n",
      "618   6190   30.88718   2:23.6\n",
      "619   6200   30.88718   2:23.9\n",
      "620   6210   30.88718   2:24.2\n",
      "621   6220   30.88718   2:24.4\n",
      "622   6230   30.88718   2:24.7\n",
      "623   6240   30.88718   2:25.0\n",
      "624   6250   30.88718   2:25.2\n",
      "625   6260   30.88718   2:25.6\n",
      "626   6270   30.88718   2:26.1\n",
      "627   6280   30.88718   2:26.6\n",
      "628   6290   30.88718   2:26.9\n",
      "629   6300   30.88718   2:27.4\n",
      "630   6310   30.88718   2:27.7\n",
      "631   6320   30.88718   2:28.2\n",
      "632   6330   30.88718   2:28.5\n",
      "633   6340   30.88718   2:28.9\n",
      "634   6350   30.88718   2:29.2\n",
      "635   6360   30.88718   2:29.4\n",
      "636   6370   30.88718   2:29.7\n",
      "637   6380   30.88718   2:30.0\n",
      "638   6390   30.88718   2:30.3\n",
      "639   6400   30.88718   2:30.6\n",
      "640   6410   30.88718   2:31.1\n",
      "641   6420   30.88718   2:31.5\n",
      "642   6430   30.88718   2:31.8\n",
      "643   6440   30.88718   2:32.1\n",
      "644   6450   30.88718   2:32.3\n",
      "645   6460   30.88718   2:32.5\n",
      "646   6470   30.88718   2:32.8\n",
      "647   6480   30.88718   2:33.0\n",
      "648   6490   30.88718   2:33.2\n",
      "649   6500   30.88718   2:33.5\n",
      "650   6510   30.88718   2:33.7\n",
      "651   6520   30.88718   2:34.0\n",
      "652   6530   30.88718   2:34.2\n",
      "653   6540   30.88718   2:34.4\n",
      "654   6550   30.88718   2:34.7\n",
      "655   6560   30.88718   2:34.9\n",
      "656   6570   30.88718   2:35.1\n",
      "657   6580   30.88718   2:35.4\n",
      "658   6590   30.88718   2:35.6\n",
      "659   6600   30.88718   2:35.9\n",
      "660   6610   30.88718   2:36.1\n",
      "661   6620   30.88718   2:36.4\n",
      "662   6630   30.88718   2:36.6\n",
      "663   6640   30.88718   2:36.8\n",
      "664   6650   30.88718   2:37.1\n",
      "665   6660   30.88718   2:37.3\n",
      "666   6670   30.88718   2:37.5\n",
      "667   6680   30.88718   2:37.7\n",
      "668   6690   30.88718   2:38.0\n",
      "669   6700   30.88718   2:38.2\n",
      "670   6710   30.88718   2:38.5\n",
      "671   6720   30.88718   2:38.7\n",
      "672   6730   30.88718   2:38.9\n",
      "673   6740   30.88718   2:39.2\n",
      "674   6750   30.88718   2:39.4\n",
      "675   6760   30.88718   2:39.7\n",
      "676   6770   30.88718   2:39.9\n",
      "677   6780   30.88718   2:40.2\n",
      "678   6790   30.88718   2:40.5\n",
      "679   6800   30.88718   2:40.7\n",
      "680   6810   30.88718   2:41.0\n",
      "681   6820   30.88718   2:41.2\n",
      "682   6830   30.88718   2:41.4\n",
      "683   6840   30.88718   2:41.7\n",
      "684   6850   30.88718   2:41.9\n",
      "685   6860   30.88718   2:42.1\n",
      "686   6870   30.88718   2:42.4\n",
      "687   6880   30.88718   2:42.6\n",
      "688   6890   30.88718   2:42.8\n",
      "689   6900   30.88718   2:43.0\n",
      "690   6910   30.88718   2:43.3\n",
      "691   6920   30.88718   2:43.5\n",
      "692   6930   30.88718   2:43.8\n",
      "693   6940   30.88718   2:44.0\n",
      "694   6950   30.88718   2:44.2\n",
      "695   6960   30.88718   2:44.5\n",
      "696   6970   30.88718   2:44.8\n",
      "697   6980   30.88718   2:45.0\n",
      "698   6990   30.88718   2:45.2\n",
      "699   7000   30.88718   2:45.5\n",
      "700   7010   30.88718   2:45.7\n",
      "701   7020   30.88718   2:45.9\n",
      "702   7030   30.88718   2:46.2\n",
      "703   7040   30.88718   2:46.4\n",
      "704   7050   30.88718   2:46.7\n",
      "705   7060   30.88718   2:46.9\n",
      "706   7070   30.88718   2:47.1\n",
      "707   7080   30.88718   2:47.4\n",
      "708   7090   30.88718   2:47.6\n",
      "709   7100   30.88718   2:47.8\n",
      "710   7110   30.88718   2:48.1\n",
      "711   7120   30.88718   2:48.3\n",
      "712   7130   30.88718   2:48.6\n",
      "713   7140   30.88718   2:48.8\n",
      "714   7150   30.88718   2:49.1\n",
      "715   7160   30.88718   2:49.3\n",
      "716   7170   30.88718   2:49.6\n",
      "717   7180   30.88718   2:49.8\n",
      "718   7190   30.88718   2:50.0\n",
      "719   7200   30.88718   2:50.3\n",
      "720   7210   30.88718   2:50.5\n",
      "721   7220   30.88718   2:50.8\n",
      "722   7230   30.88718   2:51.0\n",
      "723   7240   30.88718   2:51.3\n",
      "724   7250   30.88718   2:51.6\n",
      "725   7260   30.88718   2:51.8\n",
      "726   7270   30.88718   2:52.0\n",
      "727   7280   30.88718   2:52.3\n",
      "728   7290   30.88718   2:52.5\n",
      "729   7300   30.88718   2:52.8\n",
      "730   7310   30.88718   2:53.0\n",
      "731   7320   30.88718   2:53.2\n",
      "732   7330   30.88718   2:53.5\n",
      "733   7340   30.88718   2:53.7\n",
      "734   7350   30.88718   2:54.0\n",
      "735   7360   30.88718   2:54.2\n",
      "736   7370   30.88718   2:54.5\n",
      "737   7380   30.88718   2:54.7\n",
      "738   7390   30.88718   2:54.9\n",
      "739   7400   30.88718   2:55.2\n",
      "740   7410   30.88718   2:55.5\n",
      "741   7420   30.88718   2:55.7\n",
      "742   7430   30.88718   2:55.9\n",
      "743   7440   30.88718   2:56.2\n",
      "744   7450   30.88718   2:56.4\n",
      "745   7460   30.88718   2:56.7\n",
      "746   7470   30.88718   2:56.9\n",
      "747   7480   30.88718   2:57.1\n",
      "748   7490   30.88718   2:57.4\n",
      "749   7500   30.88718   2:57.6\n",
      "750   7510   30.88718   2:57.8\n",
      "751   7520   30.88718   2:58.1\n",
      "752   7530   30.88718   2:58.4\n",
      "753   7540   30.88718   2:58.7\n",
      "754   7550   30.88718   2:59.0\n",
      "755   7560   30.88718   2:59.2\n",
      "756   7570   30.88718   2:59.4\n",
      "757   7580   30.88718   2:59.7\n",
      "758   7590   30.88718   3:00.0\n",
      "759   7600   30.88718   3:00.3\n",
      "760   7610   30.88718   3:00.7\n",
      "761   7620   30.88718   3:01.0\n",
      "762   7630   30.88718   3:01.2\n",
      "763   7640   30.88718   3:01.5\n",
      "764   7650   30.88718   3:01.7\n",
      "765   7660   30.88718   3:02.0\n",
      "766   7670   30.88718   3:02.3\n",
      "767   7680   30.88718   3:02.5\n",
      "768   7690   30.88718   3:02.7\n",
      "769   7700   30.88718   3:03.0\n",
      "770   7710   30.88718   3:03.2\n",
      "771   7720   30.88718   3:03.4\n",
      "772   7730   30.88718   3:03.7\n",
      "773   7740   30.88718   3:03.9\n",
      "774   7750   30.88718   3:04.2\n",
      "775   7760   30.88718   3:04.4\n",
      "776   7770   30.88718   3:04.7\n",
      "777   7780   30.88718   3:04.9\n",
      "778   7790   30.88718   3:05.1\n",
      "779   7800   30.88718   3:05.4\n",
      "780   7810   30.88718   3:05.6\n",
      "781   7820   30.88718   3:05.8\n",
      "782   7830   30.88718   3:06.1\n",
      "783   7840   30.88718   3:06.4\n",
      "784   7850   30.88718   3:06.6\n",
      "785   7860   30.88718   3:06.9\n",
      "786   7870   30.88718   3:07.2\n",
      "787   7880   30.88718   3:07.5\n",
      "788   7890   30.88718   3:07.7\n",
      "789   7900   30.88718   3:08.0\n",
      "790   7910   30.88718   3:08.3\n",
      "791   7920   30.88718   3:08.5\n",
      "792   7930   30.88718   3:08.7\n",
      "793   7940   30.88718   3:08.9\n",
      "794   7950   30.88718   3:09.2\n",
      "795   7960   30.88718   3:09.4\n",
      "796   7970   30.88718   3:09.6\n",
      "797   7980   30.88718   3:09.9\n",
      "798   7990   30.88718   3:10.2\n",
      "799   8000   30.88718   3:10.6\n",
      "800   8010   30.88718   3:11.0\n",
      "801   8020   30.88718   3:11.3\n",
      "802   8030   30.88718   3:11.8\n",
      "803   8040   30.88718   3:12.4\n",
      "804   8050   30.88718   3:12.9\n",
      "805   8060   30.88718   3:13.2\n",
      "806   8070   30.88718   3:13.5\n",
      "807   8080   30.88718   3:13.7\n",
      "808   8090   30.88718   3:13.9\n",
      "809   8100   30.88718   3:14.2\n",
      "810   8110   30.88718   3:14.4\n",
      "811   8120   30.88718   3:14.6\n",
      "812   8130   30.88718   3:14.9\n",
      "813   8140   30.88718   3:15.1\n",
      "814   8150   30.88718   3:15.4\n",
      "815   8160   30.88718   3:15.6\n",
      "816   8170   30.88718   3:15.8\n",
      "817   8180   30.88718   3:16.1\n",
      "818   8190   30.88718   3:16.4\n",
      "819   8200   30.88718   3:16.6\n",
      "820   8210   30.88718   3:16.9\n",
      "821   8220   30.88718   3:17.1\n",
      "822   8230   30.88718   3:17.4\n",
      "823   8240   30.88718   3:17.6\n",
      "824   8250   30.88718   3:17.8\n",
      "825   8260   30.88718   3:18.1\n",
      "826   8270   30.88718   3:18.3\n",
      "827   8280   30.88718   3:18.5\n",
      "828   8290   30.88718   3:18.8\n",
      "829   8300   30.88718   3:19.0\n",
      "830   8310   30.88718   3:19.3\n",
      "831   8320   30.88718   3:19.5\n",
      "832   8330   30.88718   3:19.8\n",
      "833   8340   30.88718   3:20.0\n",
      "834   8350   30.88718   3:20.2\n",
      "835   8360   30.88718   3:20.5\n",
      "836   8370   30.88718   3:20.7\n",
      "837   8380   30.88718   3:21.0\n",
      "838   8390   30.88718   3:21.4\n",
      "839   8400   30.88718   3:21.7\n",
      "840   8410   30.88718   3:22.0\n",
      "841   8420   30.88718   3:22.2\n",
      "842   8430   30.88718   3:22.5\n",
      "843   8440   30.88718   3:22.7\n",
      "844   8450   30.88718   3:22.9\n",
      "845   8460   30.88718   3:23.2\n",
      "846   8470   30.88718   3:23.4\n",
      "847   8480   30.88718   3:23.7\n",
      "848   8490   30.88718   3:23.9\n",
      "849   8500   30.88718   3:24.2\n",
      "850   8510   30.88718   3:24.5\n",
      "851   8520   30.88718   3:24.7\n",
      "852   8530   30.88718   3:24.9\n",
      "853   8540   30.88718   3:25.2\n",
      "854   8550   30.88718   3:25.4\n",
      "855   8560   30.88718   3:25.6\n",
      "856   8570   30.88718   3:25.9\n",
      "857   8580   30.88718   3:26.1\n",
      "858   8590   30.88718   3:26.4\n",
      "859   8600   30.88718   3:26.7\n",
      "860   8610   30.88718   3:27.0\n",
      "861   8620   30.88718   3:27.2\n",
      "862   8630   30.88718   3:27.4\n",
      "863   8640   30.88718   3:27.7\n",
      "864   8650   30.88718   3:28.0\n",
      "865   8660   30.88718   3:28.2\n",
      "866   8670   30.88718   3:28.5\n",
      "867   8680   30.88718   3:28.8\n",
      "868   8690   30.88718   3:29.1\n",
      "869   8700   30.88718   3:29.3\n",
      "870   8710   30.88718   3:29.7\n",
      "871   8720   30.88718   3:30.0\n",
      "872   8730   30.88718   3:30.3\n",
      "873   8740   30.88718   3:30.5\n",
      "874   8750   30.88718   3:30.8\n",
      "875   8760   30.88718   3:31.1\n",
      "876   8770   30.88718   3:31.3\n",
      "877   8780   30.88718   3:31.6\n",
      "878   8790   30.88718   3:31.8\n",
      "879   8800   30.88718   3:32.0\n",
      "880   8810   30.88718   3:32.3\n",
      "881   8820   30.88718   3:32.5\n",
      "882   8830   30.88718   3:32.7\n",
      "883   8840   30.88718   3:33.0\n",
      "884   8850   30.88718   3:33.2\n",
      "885   8860   30.88718   3:33.4\n",
      "886   8870   30.88718   3:33.7\n",
      "887   8880   30.88718   3:33.9\n",
      "888   8890   30.88718   3:34.2\n",
      "889   8900   30.88718   3:34.4\n",
      "890   8910   30.88718   3:34.7\n",
      "891   8920   30.88718   3:34.9\n",
      "892   8930   30.88718   3:35.1\n",
      "893   8940   30.88718   3:35.4\n",
      "894   8950   30.88718   3:35.6\n",
      "895   8960   30.88718   3:35.8\n",
      "896   8970   30.88718   3:36.1\n",
      "897   8980   30.88718   3:36.4\n",
      "898   8990   30.88718   3:36.6\n",
      "899   9000   30.88718   3:36.8\n",
      "900   9010   30.88718   3:37.0\n",
      "901   9020   30.88718   3:37.3\n",
      "902   9030   30.88718   3:37.5\n",
      "903   9040   30.88718   3:37.7\n",
      "904   9050   30.88718   3:38.0\n",
      "905   9060   30.88718   3:38.2\n",
      "906   9070   30.88718   3:38.5\n",
      "907   9080   30.88718   3:38.7\n",
      "908   9090   30.88718   3:38.9\n",
      "909   9100   30.88718   3:39.2\n",
      "910   9110   30.88718   3:39.4\n",
      "911   9120   30.88718   3:39.7\n",
      "912   9130   30.88718   3:39.9\n",
      "913   9140   30.88718   3:40.2\n",
      "914   9150   30.88718   3:40.4\n",
      "915   9160   30.88718   3:40.6\n",
      "916   9170   30.88718   3:40.9\n",
      "917   9180   30.88718   3:41.1\n",
      "918   9190   30.88718   3:41.4\n",
      "919   9200   30.88718   3:41.7\n",
      "920   9210   30.88718   3:41.9\n",
      "921   9220   30.88718   3:42.2\n",
      "922   9230   30.88718   3:42.5\n",
      "923   9240   30.88718   3:42.7\n",
      "924   9250   30.88718   3:42.9\n",
      "925   9260   30.88718   3:43.2\n",
      "926   9270   30.88718   3:43.4\n",
      "927   9280   30.88718   3:43.6\n",
      "928   9290   30.88718   3:43.9\n",
      "929   9300   30.88718   3:44.1\n",
      "930   9310   30.88718   3:44.4\n",
      "931   9320   30.88718   3:44.6\n",
      "932   9330   30.88718   3:44.8\n",
      "933   9340   30.88718   3:45.0\n",
      "934   9350   30.88718   3:45.3\n",
      "935   9360   30.88718   3:45.6\n",
      "936   9370   30.88718   3:45.8\n",
      "937   9380   30.88718   3:46.1\n",
      "938   9390   30.88718   3:46.3\n",
      "939   9400   30.88718   3:46.6\n",
      "940   9410   30.88718   3:46.8\n",
      "941   9420   30.88718   3:47.1\n",
      "942   9430   30.88718   3:47.4\n",
      "943   9440   30.88718   3:47.8\n",
      "944   9450   30.88718   3:48.1\n",
      "945   9460   30.88718   3:48.3\n",
      "946   9470   30.88718   3:48.6\n",
      "947   9480   30.88718   3:48.8\n",
      "948   9490   30.88718   3:49.1\n",
      "949   9500   30.88718   3:49.3\n",
      "950   9510   30.88718   3:49.5\n",
      "951   9520   30.88718   3:49.7\n",
      "952   9530   30.88718   3:50.0\n",
      "953   9540   30.88718   3:50.3\n",
      "954   9550   30.88718   3:50.5\n",
      "955   9560   30.88718   3:50.8\n",
      "956   9570   30.88718   3:51.0\n",
      "957   9580   30.88718   3:51.2\n",
      "958   9590   30.88718   3:51.4\n",
      "959   9600   30.88718   3:51.6\n",
      "960   9610   30.88718   3:51.8\n",
      "961   9620   30.88718   3:52.1\n",
      "962   9630   30.88718   3:52.3\n",
      "963   9640   30.88718   3:52.5\n",
      "964   9650   30.88718   3:52.8\n",
      "965   9660   30.88718   3:53.0\n",
      "966   9670   30.88718   3:53.2\n",
      "967   9680   30.88718   3:53.4\n",
      "968   9690   30.88718   3:53.7\n",
      "969   9700   30.88718   3:53.9\n",
      "970   9710   30.88718   3:54.1\n",
      "971   9720   30.88718   3:54.3\n",
      "972   9730   30.88718   3:54.5\n",
      "973   9740   30.88718   3:54.8\n",
      "974   9750   30.88718   3:55.0\n",
      "975   9760   30.88718   3:55.3\n",
      "976   9770   30.88718   3:55.5\n",
      "977   9780   30.88718   3:55.8\n",
      "978   9790   30.88718   3:56.0\n",
      "979   9800   30.88718   3:56.2\n",
      "980   9810   30.88718   3:56.5\n",
      "981   9820   30.88718   3:56.7\n",
      "982   9830   30.88718   3:56.9\n",
      "983   9840   30.88718   3:57.1\n",
      "984   9850   30.88718   3:57.4\n",
      "985   9860   30.88718   3:57.6\n",
      "986   9870   30.88718   3:57.8\n",
      "987   9880   30.88718   3:58.0\n",
      "988   9890   30.88718   3:58.3\n",
      "989   9900   30.88718   3:58.5\n",
      "990   9910   30.88718   3:58.8\n",
      "991   9920   30.88718   3:59.0\n",
      "992   9930   30.88718   3:59.3\n",
      "993   9940   30.88718   3:59.5\n",
      "994   9950   30.88718   3:59.8\n",
      "995   9960   30.88718   4:00.0\n",
      "996   9970   30.88718   4:00.3\n",
      "997   9980   30.88718   4:00.5\n",
      "998   9990   30.88718   4:00.7\n",
      "999   10000  30.88718   4:01.0\n",
      "1000  10000  30.88718   4:01.0\n",
      "Halting: Maximum number of iterations (1000) reached.\n"
     ]
    }
   ],
   "source": [
    "optimiser.set_max_iterations(1000)\n",
    "optimiser.set_log_interval(1)\n",
    "\n",
    "log_estimates, _ = optimiser.run()\n",
    "estimates = np.exp(log_estimates)"
   ]
  },
  {
   "cell_type": "code",
   "execution_count": 43,
   "metadata": {},
   "outputs": [
    {
     "output_type": "stream",
     "name": "stdout",
     "text": [
      "Parameter names:\n['Initial S', 'Initial E', 'Initial I', 'Initial R', 'Infection Rate', 'Incubation Rate', 'Recovery Rate']\nParameter estimates:\n[7.73977117e+00 1.81493348e-04 3.05243647e-05 9.99331063e+05\n 6.94876341e-01 1.91645669e-01 6.74562774e-09 1.09345323e+00]\n"
     ]
    }
   ],
   "source": [
    "print('Parameter names:')\n",
    "print(['Initial S', 'Initial E', 'Initial I', 'Initial R', 'Infection Rate', 'Incubation Rate', 'Recovery Rate'])\n",
    "print('Parameter estimates:')\n",
    "print(estimates)"
   ]
  },
  {
   "cell_type": "markdown",
   "metadata": {},
   "source": [
    "## Compare inferred model to data"
   ]
  },
  {
   "cell_type": "code",
   "execution_count": 48,
   "metadata": {},
   "outputs": [],
   "source": [
    "model = se.SEIRModel()\n",
    "times = times.values.tolist()\n",
    "estimates = estimates[:7]\n",
    "inferred_result = model.simulate(parameters=estimates, times=times, return_incidence=True)"
   ]
  },
  {
   "cell_type": "code",
   "execution_count": 49,
   "metadata": {},
   "outputs": [
    {
     "output_type": "display_data",
     "data": {
      "application/vnd.plotly.v1+json": {
       "config": {
        "plotlyServerURL": "https://plot.ly"
       },
       "data": [
        {
         "name": "cases",
         "type": "bar",
         "x": [
          1,
          2,
          3,
          4,
          5,
          6,
          7,
          8,
          9,
          10,
          11,
          12,
          13,
          14,
          15,
          16,
          17,
          18,
          19,
          20,
          21,
          22,
          23,
          24,
          25,
          26,
          27,
          28,
          29,
          30,
          31
         ],
         "xaxis": "x",
         "y": [
          0.10526461538461539,
          0.20803538461538462,
          0.13435384615384616,
          0.11081384615384615,
          0.12095384615384615,
          0.1554969230769231,
          0.19027692307692307,
          0.15650153846153847,
          0.1305076923076923,
          0.13152153846153847,
          0.1501323076923077,
          0.32907846153846154,
          0.6537492307692307,
          0.9804646153846154,
          0.8705,
          0.7259261538461539,
          0.5998246153846154,
          0.5690692307692308,
          0.5434323076923077,
          0.4249307692307692,
          0.3772923076923077,
          0.3033938461538462,
          0.2069923076923077,
          0.09827846153846154,
          0.07748,
          0.05238923076923077,
          0.06239230769230769,
          0.06639076923076923,
          0.042916923076923075,
          0.04014769230769231,
          0.037075384615384614
         ],
         "yaxis": "y"
        },
        {
         "name": "simulation",
         "type": "bar",
         "x": [
          1,
          2,
          3,
          4,
          5,
          6,
          7,
          8,
          9,
          10,
          11,
          12,
          13,
          14,
          15,
          16,
          17,
          18,
          19,
          20,
          21,
          22,
          23,
          24,
          25,
          26,
          27,
          28,
          29,
          30,
          31
         ],
         "xaxis": "x",
         "y": [
          0,
          0.00005343474913388491,
          0.00012988061644136906,
          0.0003221634542569518,
          0.00081572902854532,
          0.0020500472746789455,
          0.005134484963491559,
          0.012901744456030428,
          0.032036091084592044,
          0.0781400091946125,
          0.1829224219545722,
          0.3854768407763913,
          0.6723892145091668,
          0.8923721149330959,
          0.9061582058202475,
          0.7908996576443315,
          0.6584889374207705,
          0.5440521501004696,
          0.44918740342836827,
          0.370849447674118,
          0.306172929587774,
          0.25277627946343273,
          0.20869190176017582,
          0.17229588620830327,
          0.14224742783699185,
          0.1174392820103094,
          0.09695791604463011,
          0.08004831545986235,
          0.06608787551522255,
          0.054562091710977256,
          0.04504642484243959
         ],
         "yaxis": "y"
        },
        {
         "mode": "lines",
         "name": "Susceptible",
         "type": "scatter",
         "x": [
          1,
          2,
          3,
          4,
          5,
          6,
          7,
          8,
          9,
          10,
          11,
          12,
          13,
          14,
          15,
          16,
          17,
          18,
          19,
          20,
          21,
          22,
          23,
          24,
          25,
          26,
          27,
          28,
          29,
          30,
          31
         ],
         "xaxis": "x2",
         "y": [
          7.739771166208399,
          7.739484053649278,
          7.738734169097298,
          7.736862992167279,
          7.732115674039914,
          7.720192876304373,
          7.690392282310809,
          7.615748628225661,
          7.432581170153919,
          6.996608067787147,
          6.0425000897043,
          4.3109608094296314,
          2.1314957611433414,
          0.609234770116132,
          0.09192313351040682,
          0.007696341515579689,
          0.00038879998147262133,
          0.000013113936488803976,
          5.81614497551586e-7,
          -8.982640176684887e-7,
          -4.624396096075702e-7,
          6.728338956948998e-7,
          4.181850554799314e-7,
          -1.5254018557824821e-7,
          9.479814073631722e-7,
          -9.772863685959826e-7,
          7.079561002871148e-7,
          -2.678973510976301e-8,
          4.3621455093407956e-7,
          3.8626311202282397e-7,
          2.780193100200972e-7
         ],
         "yaxis": "y2"
        },
        {
         "mode": "lines",
         "name": "Exposed",
         "type": "scatter",
         "x": [
          1,
          2,
          3,
          4,
          5,
          6,
          7,
          8,
          9,
          10,
          11,
          12,
          13,
          14,
          15,
          16,
          17,
          18,
          19,
          20,
          21,
          22,
          23,
          24,
          25,
          26,
          27,
          28,
          29,
          30,
          31
         ],
         "xaxis": "x2",
         "y": [
          0.00018149334774038046,
          0.000415171216600318,
          0.0010351751440124688,
          0.0025841885605514567,
          0.006515777710213088,
          0.016388528125462057,
          0.041054637167452133,
          0.1027965468772074,
          0.25392791393859443,
          0.6117610070741437,
          1.3829465631842226,
          2.729009002666352,
          4.236084836298726,
          4.86597371249511,
          4.477127143197112,
          3.7704542774576875,
          3.1192728813783037,
          2.575596417343746,
          2.126421546292595,
          1.7555735784627144,
          1.4494002132351769,
          1.196622798460499,
          0.9879311514469418,
          0.8156358358305617,
          0.6733873074143126,
          0.5559499507403647,
          0.4589903495401794,
          0.3789427689116868,
          0.3128544301599933,
          0.25829238839750923,
          0.21324607189607903
         ],
         "yaxis": "y2"
        },
        {
         "mode": "lines",
         "name": "Infectious",
         "type": "scatter",
         "x": [
          1,
          2,
          3,
          4,
          5,
          6,
          7,
          8,
          9,
          10,
          11,
          12,
          13,
          14,
          15,
          16,
          17,
          18,
          19,
          20,
          21,
          22,
          23,
          24,
          25,
          26,
          27,
          28,
          29,
          30,
          31
         ],
         "xaxis": "x2",
         "y": [
          0.0000305243646581789,
          0.00008395905455970536,
          0.00021383967818661208,
          0.0005360031893186414,
          0.0013517321610634094,
          0.003401779466369577,
          0.00853626438041041,
          0.021438008660955812,
          0.05347409943530486,
          0.13161410807865492,
          0.31453652863052634,
          0.7000133661472114,
          1.3724025739729906,
          2.264774676607273,
          3.1709328641339676,
          3.9618324977340267,
          4.620321406331312,
          5.16437352335036,
          5.613560890323173,
          5.984410298873848,
          6.290583186842741,
          6.543359423030198,
          6.752051279827182,
          6.924347120022306,
          7.066594500712806,
          7.184033734577168,
          7.280991601736607,
          7.361039867717471,
          7.427127693580026,
          7.481689735003409,
          7.5267361091231635
         ],
         "yaxis": "y2"
        },
        {
         "mode": "lines",
         "name": "Recovered",
         "type": "scatter",
         "x": [
          1,
          2,
          3,
          4,
          5,
          6,
          7,
          8,
          9,
          10,
          11,
          12,
          13,
          14,
          15,
          16,
          17,
          18,
          19,
          20,
          21,
          22,
          23,
          24,
          25,
          26,
          27,
          28,
          29,
          30,
          31
         ],
         "xaxis": "x2",
         "y": [
          999331.0628240652,
          999331.0628240652,
          999331.0628240652,
          999331.0628240652,
          999331.0628240652,
          999331.0628240652,
          999331.0628240652,
          999331.0628240654,
          999331.0628240657,
          999331.0628240663,
          999331.0628240677,
          999331.0628240709,
          999331.0628240777,
          999331.0628240899,
          999331.0628241082,
          999331.0628241323,
          999331.0628241611,
          999331.0628241942,
          999331.0628242306,
          999331.0628242698,
          999331.0628243113,
          999331.0628243546,
          999331.0628243996,
          999331.0628244457,
          999331.0628244928,
          999331.0628245409,
          999331.0628245898,
          999331.0628246393,
          999331.062824689,
          999331.0628247393,
          999331.0628247899
         ],
         "yaxis": "y2"
        }
       ],
       "layout": {
        "template": {
         "data": {
          "bar": [
           {
            "error_x": {
             "color": "#2a3f5f"
            },
            "error_y": {
             "color": "#2a3f5f"
            },
            "marker": {
             "line": {
              "color": "#E5ECF6",
              "width": 0.5
             }
            },
            "type": "bar"
           }
          ],
          "barpolar": [
           {
            "marker": {
             "line": {
              "color": "#E5ECF6",
              "width": 0.5
             }
            },
            "type": "barpolar"
           }
          ],
          "carpet": [
           {
            "aaxis": {
             "endlinecolor": "#2a3f5f",
             "gridcolor": "white",
             "linecolor": "white",
             "minorgridcolor": "white",
             "startlinecolor": "#2a3f5f"
            },
            "baxis": {
             "endlinecolor": "#2a3f5f",
             "gridcolor": "white",
             "linecolor": "white",
             "minorgridcolor": "white",
             "startlinecolor": "#2a3f5f"
            },
            "type": "carpet"
           }
          ],
          "choropleth": [
           {
            "colorbar": {
             "outlinewidth": 0,
             "ticks": ""
            },
            "type": "choropleth"
           }
          ],
          "contour": [
           {
            "colorbar": {
             "outlinewidth": 0,
             "ticks": ""
            },
            "colorscale": [
             [
              0,
              "#0d0887"
             ],
             [
              0.1111111111111111,
              "#46039f"
             ],
             [
              0.2222222222222222,
              "#7201a8"
             ],
             [
              0.3333333333333333,
              "#9c179e"
             ],
             [
              0.4444444444444444,
              "#bd3786"
             ],
             [
              0.5555555555555556,
              "#d8576b"
             ],
             [
              0.6666666666666666,
              "#ed7953"
             ],
             [
              0.7777777777777778,
              "#fb9f3a"
             ],
             [
              0.8888888888888888,
              "#fdca26"
             ],
             [
              1,
              "#f0f921"
             ]
            ],
            "type": "contour"
           }
          ],
          "contourcarpet": [
           {
            "colorbar": {
             "outlinewidth": 0,
             "ticks": ""
            },
            "type": "contourcarpet"
           }
          ],
          "heatmap": [
           {
            "colorbar": {
             "outlinewidth": 0,
             "ticks": ""
            },
            "colorscale": [
             [
              0,
              "#0d0887"
             ],
             [
              0.1111111111111111,
              "#46039f"
             ],
             [
              0.2222222222222222,
              "#7201a8"
             ],
             [
              0.3333333333333333,
              "#9c179e"
             ],
             [
              0.4444444444444444,
              "#bd3786"
             ],
             [
              0.5555555555555556,
              "#d8576b"
             ],
             [
              0.6666666666666666,
              "#ed7953"
             ],
             [
              0.7777777777777778,
              "#fb9f3a"
             ],
             [
              0.8888888888888888,
              "#fdca26"
             ],
             [
              1,
              "#f0f921"
             ]
            ],
            "type": "heatmap"
           }
          ],
          "heatmapgl": [
           {
            "colorbar": {
             "outlinewidth": 0,
             "ticks": ""
            },
            "colorscale": [
             [
              0,
              "#0d0887"
             ],
             [
              0.1111111111111111,
              "#46039f"
             ],
             [
              0.2222222222222222,
              "#7201a8"
             ],
             [
              0.3333333333333333,
              "#9c179e"
             ],
             [
              0.4444444444444444,
              "#bd3786"
             ],
             [
              0.5555555555555556,
              "#d8576b"
             ],
             [
              0.6666666666666666,
              "#ed7953"
             ],
             [
              0.7777777777777778,
              "#fb9f3a"
             ],
             [
              0.8888888888888888,
              "#fdca26"
             ],
             [
              1,
              "#f0f921"
             ]
            ],
            "type": "heatmapgl"
           }
          ],
          "histogram": [
           {
            "marker": {
             "colorbar": {
              "outlinewidth": 0,
              "ticks": ""
             }
            },
            "type": "histogram"
           }
          ],
          "histogram2d": [
           {
            "colorbar": {
             "outlinewidth": 0,
             "ticks": ""
            },
            "colorscale": [
             [
              0,
              "#0d0887"
             ],
             [
              0.1111111111111111,
              "#46039f"
             ],
             [
              0.2222222222222222,
              "#7201a8"
             ],
             [
              0.3333333333333333,
              "#9c179e"
             ],
             [
              0.4444444444444444,
              "#bd3786"
             ],
             [
              0.5555555555555556,
              "#d8576b"
             ],
             [
              0.6666666666666666,
              "#ed7953"
             ],
             [
              0.7777777777777778,
              "#fb9f3a"
             ],
             [
              0.8888888888888888,
              "#fdca26"
             ],
             [
              1,
              "#f0f921"
             ]
            ],
            "type": "histogram2d"
           }
          ],
          "histogram2dcontour": [
           {
            "colorbar": {
             "outlinewidth": 0,
             "ticks": ""
            },
            "colorscale": [
             [
              0,
              "#0d0887"
             ],
             [
              0.1111111111111111,
              "#46039f"
             ],
             [
              0.2222222222222222,
              "#7201a8"
             ],
             [
              0.3333333333333333,
              "#9c179e"
             ],
             [
              0.4444444444444444,
              "#bd3786"
             ],
             [
              0.5555555555555556,
              "#d8576b"
             ],
             [
              0.6666666666666666,
              "#ed7953"
             ],
             [
              0.7777777777777778,
              "#fb9f3a"
             ],
             [
              0.8888888888888888,
              "#fdca26"
             ],
             [
              1,
              "#f0f921"
             ]
            ],
            "type": "histogram2dcontour"
           }
          ],
          "mesh3d": [
           {
            "colorbar": {
             "outlinewidth": 0,
             "ticks": ""
            },
            "type": "mesh3d"
           }
          ],
          "parcoords": [
           {
            "line": {
             "colorbar": {
              "outlinewidth": 0,
              "ticks": ""
             }
            },
            "type": "parcoords"
           }
          ],
          "pie": [
           {
            "automargin": true,
            "type": "pie"
           }
          ],
          "scatter": [
           {
            "marker": {
             "colorbar": {
              "outlinewidth": 0,
              "ticks": ""
             }
            },
            "type": "scatter"
           }
          ],
          "scatter3d": [
           {
            "line": {
             "colorbar": {
              "outlinewidth": 0,
              "ticks": ""
             }
            },
            "marker": {
             "colorbar": {
              "outlinewidth": 0,
              "ticks": ""
             }
            },
            "type": "scatter3d"
           }
          ],
          "scattercarpet": [
           {
            "marker": {
             "colorbar": {
              "outlinewidth": 0,
              "ticks": ""
             }
            },
            "type": "scattercarpet"
           }
          ],
          "scattergeo": [
           {
            "marker": {
             "colorbar": {
              "outlinewidth": 0,
              "ticks": ""
             }
            },
            "type": "scattergeo"
           }
          ],
          "scattergl": [
           {
            "marker": {
             "colorbar": {
              "outlinewidth": 0,
              "ticks": ""
             }
            },
            "type": "scattergl"
           }
          ],
          "scattermapbox": [
           {
            "marker": {
             "colorbar": {
              "outlinewidth": 0,
              "ticks": ""
             }
            },
            "type": "scattermapbox"
           }
          ],
          "scatterpolar": [
           {
            "marker": {
             "colorbar": {
              "outlinewidth": 0,
              "ticks": ""
             }
            },
            "type": "scatterpolar"
           }
          ],
          "scatterpolargl": [
           {
            "marker": {
             "colorbar": {
              "outlinewidth": 0,
              "ticks": ""
             }
            },
            "type": "scatterpolargl"
           }
          ],
          "scatterternary": [
           {
            "marker": {
             "colorbar": {
              "outlinewidth": 0,
              "ticks": ""
             }
            },
            "type": "scatterternary"
           }
          ],
          "surface": [
           {
            "colorbar": {
             "outlinewidth": 0,
             "ticks": ""
            },
            "colorscale": [
             [
              0,
              "#0d0887"
             ],
             [
              0.1111111111111111,
              "#46039f"
             ],
             [
              0.2222222222222222,
              "#7201a8"
             ],
             [
              0.3333333333333333,
              "#9c179e"
             ],
             [
              0.4444444444444444,
              "#bd3786"
             ],
             [
              0.5555555555555556,
              "#d8576b"
             ],
             [
              0.6666666666666666,
              "#ed7953"
             ],
             [
              0.7777777777777778,
              "#fb9f3a"
             ],
             [
              0.8888888888888888,
              "#fdca26"
             ],
             [
              1,
              "#f0f921"
             ]
            ],
            "type": "surface"
           }
          ],
          "table": [
           {
            "cells": {
             "fill": {
              "color": "#EBF0F8"
             },
             "line": {
              "color": "white"
             }
            },
            "header": {
             "fill": {
              "color": "#C8D4E3"
             },
             "line": {
              "color": "white"
             }
            },
            "type": "table"
           }
          ]
         },
         "layout": {
          "annotationdefaults": {
           "arrowcolor": "#2a3f5f",
           "arrowhead": 0,
           "arrowwidth": 1
          },
          "autotypenumbers": "strict",
          "coloraxis": {
           "colorbar": {
            "outlinewidth": 0,
            "ticks": ""
           }
          },
          "colorscale": {
           "diverging": [
            [
             0,
             "#8e0152"
            ],
            [
             0.1,
             "#c51b7d"
            ],
            [
             0.2,
             "#de77ae"
            ],
            [
             0.3,
             "#f1b6da"
            ],
            [
             0.4,
             "#fde0ef"
            ],
            [
             0.5,
             "#f7f7f7"
            ],
            [
             0.6,
             "#e6f5d0"
            ],
            [
             0.7,
             "#b8e186"
            ],
            [
             0.8,
             "#7fbc41"
            ],
            [
             0.9,
             "#4d9221"
            ],
            [
             1,
             "#276419"
            ]
           ],
           "sequential": [
            [
             0,
             "#0d0887"
            ],
            [
             0.1111111111111111,
             "#46039f"
            ],
            [
             0.2222222222222222,
             "#7201a8"
            ],
            [
             0.3333333333333333,
             "#9c179e"
            ],
            [
             0.4444444444444444,
             "#bd3786"
            ],
            [
             0.5555555555555556,
             "#d8576b"
            ],
            [
             0.6666666666666666,
             "#ed7953"
            ],
            [
             0.7777777777777778,
             "#fb9f3a"
            ],
            [
             0.8888888888888888,
             "#fdca26"
            ],
            [
             1,
             "#f0f921"
            ]
           ],
           "sequentialminus": [
            [
             0,
             "#0d0887"
            ],
            [
             0.1111111111111111,
             "#46039f"
            ],
            [
             0.2222222222222222,
             "#7201a8"
            ],
            [
             0.3333333333333333,
             "#9c179e"
            ],
            [
             0.4444444444444444,
             "#bd3786"
            ],
            [
             0.5555555555555556,
             "#d8576b"
            ],
            [
             0.6666666666666666,
             "#ed7953"
            ],
            [
             0.7777777777777778,
             "#fb9f3a"
            ],
            [
             0.8888888888888888,
             "#fdca26"
            ],
            [
             1,
             "#f0f921"
            ]
           ]
          },
          "colorway": [
           "#636efa",
           "#EF553B",
           "#00cc96",
           "#ab63fa",
           "#FFA15A",
           "#19d3f3",
           "#FF6692",
           "#B6E880",
           "#FF97FF",
           "#FECB52"
          ],
          "font": {
           "color": "#2a3f5f"
          },
          "geo": {
           "bgcolor": "white",
           "lakecolor": "white",
           "landcolor": "#E5ECF6",
           "showlakes": true,
           "showland": true,
           "subunitcolor": "white"
          },
          "hoverlabel": {
           "align": "left"
          },
          "hovermode": "closest",
          "mapbox": {
           "style": "light"
          },
          "paper_bgcolor": "white",
          "plot_bgcolor": "#E5ECF6",
          "polar": {
           "angularaxis": {
            "gridcolor": "white",
            "linecolor": "white",
            "ticks": ""
           },
           "bgcolor": "#E5ECF6",
           "radialaxis": {
            "gridcolor": "white",
            "linecolor": "white",
            "ticks": ""
           }
          },
          "scene": {
           "xaxis": {
            "backgroundcolor": "#E5ECF6",
            "gridcolor": "white",
            "gridwidth": 2,
            "linecolor": "white",
            "showbackground": true,
            "ticks": "",
            "zerolinecolor": "white"
           },
           "yaxis": {
            "backgroundcolor": "#E5ECF6",
            "gridcolor": "white",
            "gridwidth": 2,
            "linecolor": "white",
            "showbackground": true,
            "ticks": "",
            "zerolinecolor": "white"
           },
           "zaxis": {
            "backgroundcolor": "#E5ECF6",
            "gridcolor": "white",
            "gridwidth": 2,
            "linecolor": "white",
            "showbackground": true,
            "ticks": "",
            "zerolinecolor": "white"
           }
          },
          "shapedefaults": {
           "line": {
            "color": "#2a3f5f"
           }
          },
          "ternary": {
           "aaxis": {
            "gridcolor": "white",
            "linecolor": "white",
            "ticks": ""
           },
           "baxis": {
            "gridcolor": "white",
            "linecolor": "white",
            "ticks": ""
           },
           "bgcolor": "#E5ECF6",
           "caxis": {
            "gridcolor": "white",
            "linecolor": "white",
            "ticks": ""
           }
          },
          "title": {
           "x": 0.05
          },
          "xaxis": {
           "automargin": true,
           "gridcolor": "white",
           "linecolor": "white",
           "ticks": "",
           "title": {
            "standoff": 15
           },
           "zerolinecolor": "white",
           "zerolinewidth": 2
          },
          "yaxis": {
           "automargin": true,
           "gridcolor": "white",
           "linecolor": "white",
           "ticks": "",
           "title": {
            "standoff": 15
           },
           "zerolinecolor": "white",
           "zerolinewidth": 2
          }
         }
        },
        "xaxis": {
         "anchor": "y",
         "domain": [
          0,
          1
         ],
         "title": {
          "text": "Time"
         }
        },
        "xaxis2": {
         "anchor": "y2",
         "domain": [
          0,
          1
         ],
         "title": {
          "text": "Time"
         }
        },
        "yaxis": {
         "anchor": "x",
         "domain": [
          0.575,
          1
         ],
         "title": {
          "text": "Incidence Number"
         }
        },
        "yaxis2": {
         "anchor": "x2",
         "domain": [
          0,
          0.425
         ],
         "title": {
          "text": "Percentage in population"
         }
        }
       }
      },
      "text/html": "<div>                            <div id=\"4119ac08-92d6-4afb-b52d-bf5ac73f74e4\" class=\"plotly-graph-div\" style=\"height:525px; width:100%;\"></div>            <script type=\"text/javascript\">                require([\"plotly\"], function(Plotly) {                    window.PLOTLYENV=window.PLOTLYENV || {};                                    if (document.getElementById(\"4119ac08-92d6-4afb-b52d-bf5ac73f74e4\")) {                    Plotly.newPlot(                        \"4119ac08-92d6-4afb-b52d-bf5ac73f74e4\",                        [{\"name\": \"cases\", \"type\": \"bar\", \"x\": [1, 2, 3, 4, 5, 6, 7, 8, 9, 10, 11, 12, 13, 14, 15, 16, 17, 18, 19, 20, 21, 22, 23, 24, 25, 26, 27, 28, 29, 30, 31], \"xaxis\": \"x\", \"y\": [0.10526461538461539, 0.20803538461538462, 0.13435384615384616, 0.11081384615384615, 0.12095384615384615, 0.1554969230769231, 0.19027692307692307, 0.15650153846153847, 0.1305076923076923, 0.13152153846153847, 0.1501323076923077, 0.32907846153846154, 0.6537492307692307, 0.9804646153846154, 0.8705, 0.7259261538461539, 0.5998246153846154, 0.5690692307692308, 0.5434323076923077, 0.4249307692307692, 0.3772923076923077, 0.3033938461538462, 0.2069923076923077, 0.09827846153846154, 0.07748, 0.05238923076923077, 0.06239230769230769, 0.06639076923076923, 0.042916923076923075, 0.04014769230769231, 0.037075384615384614], \"yaxis\": \"y\"}, {\"name\": \"simulation\", \"type\": \"bar\", \"x\": [1, 2, 3, 4, 5, 6, 7, 8, 9, 10, 11, 12, 13, 14, 15, 16, 17, 18, 19, 20, 21, 22, 23, 24, 25, 26, 27, 28, 29, 30, 31], \"xaxis\": \"x\", \"y\": [0.0, 5.343474913388491e-05, 0.00012988061644136906, 0.0003221634542569518, 0.00081572902854532, 0.0020500472746789455, 0.005134484963491559, 0.012901744456030428, 0.032036091084592044, 0.0781400091946125, 0.1829224219545722, 0.3854768407763913, 0.6723892145091668, 0.8923721149330959, 0.9061582058202475, 0.7908996576443315, 0.6584889374207705, 0.5440521501004696, 0.44918740342836827, 0.370849447674118, 0.306172929587774, 0.25277627946343273, 0.20869190176017582, 0.17229588620830327, 0.14224742783699185, 0.1174392820103094, 0.09695791604463011, 0.08004831545986235, 0.06608787551522255, 0.054562091710977256, 0.04504642484243959], \"yaxis\": \"y\"}, {\"mode\": \"lines\", \"name\": \"Susceptible\", \"type\": \"scatter\", \"x\": [1, 2, 3, 4, 5, 6, 7, 8, 9, 10, 11, 12, 13, 14, 15, 16, 17, 18, 19, 20, 21, 22, 23, 24, 25, 26, 27, 28, 29, 30, 31], \"xaxis\": \"x2\", \"y\": [7.739771166208399, 7.739484053649278, 7.738734169097298, 7.736862992167279, 7.732115674039914, 7.720192876304373, 7.690392282310809, 7.615748628225661, 7.432581170153919, 6.996608067787147, 6.0425000897043, 4.3109608094296314, 2.1314957611433414, 0.609234770116132, 0.09192313351040682, 0.007696341515579689, 0.00038879998147262133, 1.3113936488803976e-05, 5.81614497551586e-07, -8.982640176684887e-07, -4.624396096075702e-07, 6.728338956948998e-07, 4.181850554799314e-07, -1.5254018557824821e-07, 9.479814073631722e-07, -9.772863685959826e-07, 7.079561002871148e-07, -2.678973510976301e-08, 4.3621455093407956e-07, 3.8626311202282397e-07, 2.780193100200972e-07], \"yaxis\": \"y2\"}, {\"mode\": \"lines\", \"name\": \"Exposed\", \"type\": \"scatter\", \"x\": [1, 2, 3, 4, 5, 6, 7, 8, 9, 10, 11, 12, 13, 14, 15, 16, 17, 18, 19, 20, 21, 22, 23, 24, 25, 26, 27, 28, 29, 30, 31], \"xaxis\": \"x2\", \"y\": [0.00018149334774038046, 0.000415171216600318, 0.0010351751440124688, 0.0025841885605514567, 0.006515777710213088, 0.016388528125462057, 0.041054637167452133, 0.1027965468772074, 0.25392791393859443, 0.6117610070741437, 1.3829465631842226, 2.729009002666352, 4.236084836298726, 4.86597371249511, 4.477127143197112, 3.7704542774576875, 3.1192728813783037, 2.575596417343746, 2.126421546292595, 1.7555735784627144, 1.4494002132351769, 1.196622798460499, 0.9879311514469418, 0.8156358358305617, 0.6733873074143126, 0.5559499507403647, 0.4589903495401794, 0.3789427689116868, 0.3128544301599933, 0.25829238839750923, 0.21324607189607903], \"yaxis\": \"y2\"}, {\"mode\": \"lines\", \"name\": \"Infectious\", \"type\": \"scatter\", \"x\": [1, 2, 3, 4, 5, 6, 7, 8, 9, 10, 11, 12, 13, 14, 15, 16, 17, 18, 19, 20, 21, 22, 23, 24, 25, 26, 27, 28, 29, 30, 31], \"xaxis\": \"x2\", \"y\": [3.05243646581789e-05, 8.395905455970536e-05, 0.00021383967818661208, 0.0005360031893186414, 0.0013517321610634094, 0.003401779466369577, 0.00853626438041041, 0.021438008660955812, 0.05347409943530486, 0.13161410807865492, 0.31453652863052634, 0.7000133661472114, 1.3724025739729906, 2.264774676607273, 3.1709328641339676, 3.9618324977340267, 4.620321406331312, 5.16437352335036, 5.613560890323173, 5.984410298873848, 6.290583186842741, 6.543359423030198, 6.752051279827182, 6.924347120022306, 7.066594500712806, 7.184033734577168, 7.280991601736607, 7.361039867717471, 7.427127693580026, 7.481689735003409, 7.5267361091231635], \"yaxis\": \"y2\"}, {\"mode\": \"lines\", \"name\": \"Recovered\", \"type\": \"scatter\", \"x\": [1, 2, 3, 4, 5, 6, 7, 8, 9, 10, 11, 12, 13, 14, 15, 16, 17, 18, 19, 20, 21, 22, 23, 24, 25, 26, 27, 28, 29, 30, 31], \"xaxis\": \"x2\", \"y\": [999331.0628240652, 999331.0628240652, 999331.0628240652, 999331.0628240652, 999331.0628240652, 999331.0628240652, 999331.0628240652, 999331.0628240654, 999331.0628240657, 999331.0628240663, 999331.0628240677, 999331.0628240709, 999331.0628240777, 999331.0628240899, 999331.0628241082, 999331.0628241323, 999331.0628241611, 999331.0628241942, 999331.0628242306, 999331.0628242698, 999331.0628243113, 999331.0628243546, 999331.0628243996, 999331.0628244457, 999331.0628244928, 999331.0628245409, 999331.0628245898, 999331.0628246393, 999331.062824689, 999331.0628247393, 999331.0628247899], \"yaxis\": \"y2\"}],                        {\"template\": {\"data\": {\"bar\": [{\"error_x\": {\"color\": \"#2a3f5f\"}, \"error_y\": {\"color\": \"#2a3f5f\"}, \"marker\": {\"line\": {\"color\": \"#E5ECF6\", \"width\": 0.5}}, \"type\": \"bar\"}], \"barpolar\": [{\"marker\": {\"line\": {\"color\": \"#E5ECF6\", \"width\": 0.5}}, \"type\": \"barpolar\"}], \"carpet\": [{\"aaxis\": {\"endlinecolor\": \"#2a3f5f\", \"gridcolor\": \"white\", \"linecolor\": \"white\", \"minorgridcolor\": \"white\", \"startlinecolor\": \"#2a3f5f\"}, \"baxis\": {\"endlinecolor\": \"#2a3f5f\", \"gridcolor\": \"white\", \"linecolor\": \"white\", \"minorgridcolor\": \"white\", \"startlinecolor\": \"#2a3f5f\"}, \"type\": \"carpet\"}], \"choropleth\": [{\"colorbar\": {\"outlinewidth\": 0, \"ticks\": \"\"}, \"type\": \"choropleth\"}], \"contour\": [{\"colorbar\": {\"outlinewidth\": 0, \"ticks\": \"\"}, \"colorscale\": [[0.0, \"#0d0887\"], [0.1111111111111111, \"#46039f\"], [0.2222222222222222, \"#7201a8\"], [0.3333333333333333, \"#9c179e\"], [0.4444444444444444, \"#bd3786\"], [0.5555555555555556, \"#d8576b\"], [0.6666666666666666, \"#ed7953\"], [0.7777777777777778, \"#fb9f3a\"], [0.8888888888888888, \"#fdca26\"], [1.0, \"#f0f921\"]], \"type\": \"contour\"}], \"contourcarpet\": [{\"colorbar\": {\"outlinewidth\": 0, \"ticks\": \"\"}, \"type\": \"contourcarpet\"}], \"heatmap\": [{\"colorbar\": {\"outlinewidth\": 0, \"ticks\": \"\"}, \"colorscale\": [[0.0, \"#0d0887\"], [0.1111111111111111, \"#46039f\"], [0.2222222222222222, \"#7201a8\"], [0.3333333333333333, \"#9c179e\"], [0.4444444444444444, \"#bd3786\"], [0.5555555555555556, \"#d8576b\"], [0.6666666666666666, \"#ed7953\"], [0.7777777777777778, \"#fb9f3a\"], [0.8888888888888888, \"#fdca26\"], [1.0, \"#f0f921\"]], \"type\": \"heatmap\"}], \"heatmapgl\": [{\"colorbar\": {\"outlinewidth\": 0, \"ticks\": \"\"}, \"colorscale\": [[0.0, \"#0d0887\"], [0.1111111111111111, \"#46039f\"], [0.2222222222222222, \"#7201a8\"], [0.3333333333333333, \"#9c179e\"], [0.4444444444444444, \"#bd3786\"], [0.5555555555555556, \"#d8576b\"], [0.6666666666666666, \"#ed7953\"], [0.7777777777777778, \"#fb9f3a\"], [0.8888888888888888, \"#fdca26\"], [1.0, \"#f0f921\"]], \"type\": \"heatmapgl\"}], \"histogram\": [{\"marker\": {\"colorbar\": {\"outlinewidth\": 0, \"ticks\": \"\"}}, \"type\": \"histogram\"}], \"histogram2d\": [{\"colorbar\": {\"outlinewidth\": 0, \"ticks\": \"\"}, \"colorscale\": [[0.0, \"#0d0887\"], [0.1111111111111111, \"#46039f\"], [0.2222222222222222, \"#7201a8\"], [0.3333333333333333, \"#9c179e\"], [0.4444444444444444, \"#bd3786\"], [0.5555555555555556, \"#d8576b\"], [0.6666666666666666, \"#ed7953\"], [0.7777777777777778, \"#fb9f3a\"], [0.8888888888888888, \"#fdca26\"], [1.0, \"#f0f921\"]], \"type\": \"histogram2d\"}], \"histogram2dcontour\": [{\"colorbar\": {\"outlinewidth\": 0, \"ticks\": \"\"}, \"colorscale\": [[0.0, \"#0d0887\"], [0.1111111111111111, \"#46039f\"], [0.2222222222222222, \"#7201a8\"], [0.3333333333333333, \"#9c179e\"], [0.4444444444444444, \"#bd3786\"], [0.5555555555555556, \"#d8576b\"], [0.6666666666666666, \"#ed7953\"], [0.7777777777777778, \"#fb9f3a\"], [0.8888888888888888, \"#fdca26\"], [1.0, \"#f0f921\"]], \"type\": \"histogram2dcontour\"}], \"mesh3d\": [{\"colorbar\": {\"outlinewidth\": 0, \"ticks\": \"\"}, \"type\": \"mesh3d\"}], \"parcoords\": [{\"line\": {\"colorbar\": {\"outlinewidth\": 0, \"ticks\": \"\"}}, \"type\": \"parcoords\"}], \"pie\": [{\"automargin\": true, \"type\": \"pie\"}], \"scatter\": [{\"marker\": {\"colorbar\": {\"outlinewidth\": 0, \"ticks\": \"\"}}, \"type\": \"scatter\"}], \"scatter3d\": [{\"line\": {\"colorbar\": {\"outlinewidth\": 0, \"ticks\": \"\"}}, \"marker\": {\"colorbar\": {\"outlinewidth\": 0, \"ticks\": \"\"}}, \"type\": \"scatter3d\"}], \"scattercarpet\": [{\"marker\": {\"colorbar\": {\"outlinewidth\": 0, \"ticks\": \"\"}}, \"type\": \"scattercarpet\"}], \"scattergeo\": [{\"marker\": {\"colorbar\": {\"outlinewidth\": 0, \"ticks\": \"\"}}, \"type\": \"scattergeo\"}], \"scattergl\": [{\"marker\": {\"colorbar\": {\"outlinewidth\": 0, \"ticks\": \"\"}}, \"type\": \"scattergl\"}], \"scattermapbox\": [{\"marker\": {\"colorbar\": {\"outlinewidth\": 0, \"ticks\": \"\"}}, \"type\": \"scattermapbox\"}], \"scatterpolar\": [{\"marker\": {\"colorbar\": {\"outlinewidth\": 0, \"ticks\": \"\"}}, \"type\": \"scatterpolar\"}], \"scatterpolargl\": [{\"marker\": {\"colorbar\": {\"outlinewidth\": 0, \"ticks\": \"\"}}, \"type\": \"scatterpolargl\"}], \"scatterternary\": [{\"marker\": {\"colorbar\": {\"outlinewidth\": 0, \"ticks\": \"\"}}, \"type\": \"scatterternary\"}], \"surface\": [{\"colorbar\": {\"outlinewidth\": 0, \"ticks\": \"\"}, \"colorscale\": [[0.0, \"#0d0887\"], [0.1111111111111111, \"#46039f\"], [0.2222222222222222, \"#7201a8\"], [0.3333333333333333, \"#9c179e\"], [0.4444444444444444, \"#bd3786\"], [0.5555555555555556, \"#d8576b\"], [0.6666666666666666, \"#ed7953\"], [0.7777777777777778, \"#fb9f3a\"], [0.8888888888888888, \"#fdca26\"], [1.0, \"#f0f921\"]], \"type\": \"surface\"}], \"table\": [{\"cells\": {\"fill\": {\"color\": \"#EBF0F8\"}, \"line\": {\"color\": \"white\"}}, \"header\": {\"fill\": {\"color\": \"#C8D4E3\"}, \"line\": {\"color\": \"white\"}}, \"type\": \"table\"}]}, \"layout\": {\"annotationdefaults\": {\"arrowcolor\": \"#2a3f5f\", \"arrowhead\": 0, \"arrowwidth\": 1}, \"autotypenumbers\": \"strict\", \"coloraxis\": {\"colorbar\": {\"outlinewidth\": 0, \"ticks\": \"\"}}, \"colorscale\": {\"diverging\": [[0, \"#8e0152\"], [0.1, \"#c51b7d\"], [0.2, \"#de77ae\"], [0.3, \"#f1b6da\"], [0.4, \"#fde0ef\"], [0.5, \"#f7f7f7\"], [0.6, \"#e6f5d0\"], [0.7, \"#b8e186\"], [0.8, \"#7fbc41\"], [0.9, \"#4d9221\"], [1, \"#276419\"]], \"sequential\": [[0.0, \"#0d0887\"], [0.1111111111111111, \"#46039f\"], [0.2222222222222222, \"#7201a8\"], [0.3333333333333333, \"#9c179e\"], [0.4444444444444444, \"#bd3786\"], [0.5555555555555556, \"#d8576b\"], [0.6666666666666666, \"#ed7953\"], [0.7777777777777778, \"#fb9f3a\"], [0.8888888888888888, \"#fdca26\"], [1.0, \"#f0f921\"]], \"sequentialminus\": [[0.0, \"#0d0887\"], [0.1111111111111111, \"#46039f\"], [0.2222222222222222, \"#7201a8\"], [0.3333333333333333, \"#9c179e\"], [0.4444444444444444, \"#bd3786\"], [0.5555555555555556, \"#d8576b\"], [0.6666666666666666, \"#ed7953\"], [0.7777777777777778, \"#fb9f3a\"], [0.8888888888888888, \"#fdca26\"], [1.0, \"#f0f921\"]]}, \"colorway\": [\"#636efa\", \"#EF553B\", \"#00cc96\", \"#ab63fa\", \"#FFA15A\", \"#19d3f3\", \"#FF6692\", \"#B6E880\", \"#FF97FF\", \"#FECB52\"], \"font\": {\"color\": \"#2a3f5f\"}, \"geo\": {\"bgcolor\": \"white\", \"lakecolor\": \"white\", \"landcolor\": \"#E5ECF6\", \"showlakes\": true, \"showland\": true, \"subunitcolor\": \"white\"}, \"hoverlabel\": {\"align\": \"left\"}, \"hovermode\": \"closest\", \"mapbox\": {\"style\": \"light\"}, \"paper_bgcolor\": \"white\", \"plot_bgcolor\": \"#E5ECF6\", \"polar\": {\"angularaxis\": {\"gridcolor\": \"white\", \"linecolor\": \"white\", \"ticks\": \"\"}, \"bgcolor\": \"#E5ECF6\", \"radialaxis\": {\"gridcolor\": \"white\", \"linecolor\": \"white\", \"ticks\": \"\"}}, \"scene\": {\"xaxis\": {\"backgroundcolor\": \"#E5ECF6\", \"gridcolor\": \"white\", \"gridwidth\": 2, \"linecolor\": \"white\", \"showbackground\": true, \"ticks\": \"\", \"zerolinecolor\": \"white\"}, \"yaxis\": {\"backgroundcolor\": \"#E5ECF6\", \"gridcolor\": \"white\", \"gridwidth\": 2, \"linecolor\": \"white\", \"showbackground\": true, \"ticks\": \"\", \"zerolinecolor\": \"white\"}, \"zaxis\": {\"backgroundcolor\": \"#E5ECF6\", \"gridcolor\": \"white\", \"gridwidth\": 2, \"linecolor\": \"white\", \"showbackground\": true, \"ticks\": \"\", \"zerolinecolor\": \"white\"}}, \"shapedefaults\": {\"line\": {\"color\": \"#2a3f5f\"}}, \"ternary\": {\"aaxis\": {\"gridcolor\": \"white\", \"linecolor\": \"white\", \"ticks\": \"\"}, \"baxis\": {\"gridcolor\": \"white\", \"linecolor\": \"white\", \"ticks\": \"\"}, \"bgcolor\": \"#E5ECF6\", \"caxis\": {\"gridcolor\": \"white\", \"linecolor\": \"white\", \"ticks\": \"\"}}, \"title\": {\"x\": 0.05}, \"xaxis\": {\"automargin\": true, \"gridcolor\": \"white\", \"linecolor\": \"white\", \"ticks\": \"\", \"title\": {\"standoff\": 15}, \"zerolinecolor\": \"white\", \"zerolinewidth\": 2}, \"yaxis\": {\"automargin\": true, \"gridcolor\": \"white\", \"linecolor\": \"white\", \"ticks\": \"\", \"title\": {\"standoff\": 15}, \"zerolinecolor\": \"white\", \"zerolinewidth\": 2}}}, \"xaxis\": {\"anchor\": \"y\", \"domain\": [0.0, 1.0], \"title\": {\"text\": \"Time\"}}, \"xaxis2\": {\"anchor\": \"y2\", \"domain\": [0.0, 1.0], \"title\": {\"text\": \"Time\"}}, \"yaxis\": {\"anchor\": \"x\", \"domain\": [0.575, 1.0], \"title\": {\"text\": \"Incidence Number\"}}, \"yaxis2\": {\"anchor\": \"x2\", \"domain\": [0.0, 0.425], \"title\": {\"text\": \"Percentage in population\"}}},                        {\"responsive\": true}                    ).then(function(){\n                            \nvar gd = document.getElementById('4119ac08-92d6-4afb-b52d-bf5ac73f74e4');\nvar x = new MutationObserver(function (mutations, observer) {{\n        var display = window.getComputedStyle(gd).display;\n        if (!display || display === 'none') {{\n            console.log([gd, 'removed!']);\n            Plotly.purge(gd);\n            observer.disconnect();\n        }}\n}});\n\n// Listen for the removal of the full notebook cells\nvar notebookContainer = gd.closest('#notebook-container');\nif (notebookContainer) {{\n    x.observe(notebookContainer, {childList: true});\n}}\n\n// Listen for the clearing of the current output cell\nvar outputEl = gd.closest('.output');\nif (outputEl) {{\n    x.observe(outputEl, {childList: true});\n}}\n\n                        })                };                });            </script>        </div>"
     },
     "metadata": {}
    }
   ],
   "source": [
    "inferred_data = pd.DataFrame({\n",
    "            'Time': times,\n",
    "            'Incidence Number': inferred_result[:, -1],\n",
    "            'Susceptible': inferred_result[:, 0],\n",
    "            'Exposed': inferred_result[:, 1],\n",
    "            'Infectious': inferred_result[:, 2],\n",
    "            'Recovered': inferred_result[:, 3],\n",
    "        })\n",
    "\n",
    "# Plot flu data vs inferred incidences data\n",
    "plot = plots.SubplotFigure()\n",
    "plot.add_data(flu_data, time_key='time_index', inc_key='inc')\n",
    "plot.add_simulation(inferred_data)\n",
    "plot.get_subplots()\n",
    "plot.show()"
   ]
  },
  {
   "cell_type": "code",
   "execution_count": 50,
   "metadata": {},
   "outputs": [
    {
     "output_type": "stream",
     "name": "stdout",
     "text": [
      "    Time  Incidence Number   Susceptible   Exposed  Infectious      Recovered\n0      1          0.000000  7.739771e+00  0.000181    0.000031  999331.062824\n1      2          0.000053  7.739484e+00  0.000415    0.000084  999331.062824\n2      3          0.000130  7.738734e+00  0.001035    0.000214  999331.062824\n3      4          0.000322  7.736863e+00  0.002584    0.000536  999331.062824\n4      5          0.000816  7.732116e+00  0.006516    0.001352  999331.062824\n5      6          0.002050  7.720193e+00  0.016389    0.003402  999331.062824\n6      7          0.005134  7.690392e+00  0.041055    0.008536  999331.062824\n7      8          0.012902  7.615749e+00  0.102797    0.021438  999331.062824\n8      9          0.032036  7.432581e+00  0.253928    0.053474  999331.062824\n9     10          0.078140  6.996608e+00  0.611761    0.131614  999331.062824\n10    11          0.182922  6.042500e+00  1.382947    0.314537  999331.062824\n11    12          0.385477  4.310961e+00  2.729009    0.700013  999331.062824\n12    13          0.672389  2.131496e+00  4.236085    1.372403  999331.062824\n13    14          0.892372  6.092348e-01  4.865974    2.264775  999331.062824\n14    15          0.906158  9.192313e-02  4.477127    3.170933  999331.062824\n15    16          0.790900  7.696342e-03  3.770454    3.961832  999331.062824\n16    17          0.658489  3.888000e-04  3.119273    4.620321  999331.062824\n17    18          0.544052  1.311394e-05  2.575596    5.164374  999331.062824\n18    19          0.449187  5.816145e-07  2.126422    5.613561  999331.062824\n19    20          0.370849 -8.982640e-07  1.755574    5.984410  999331.062824\n20    21          0.306173 -4.624396e-07  1.449400    6.290583  999331.062824\n21    22          0.252776  6.728339e-07  1.196623    6.543359  999331.062824\n22    23          0.208692  4.181851e-07  0.987931    6.752051  999331.062824\n23    24          0.172296 -1.525402e-07  0.815636    6.924347  999331.062824\n24    25          0.142247  9.479814e-07  0.673387    7.066595  999331.062824\n25    26          0.117439 -9.772864e-07  0.555950    7.184034  999331.062825\n26    27          0.096958  7.079561e-07  0.458990    7.280992  999331.062825\n27    28          0.080048 -2.678974e-08  0.378943    7.361040  999331.062825\n28    29          0.066088  4.362146e-07  0.312854    7.427128  999331.062825\n29    30          0.054562  3.862631e-07  0.258292    7.481690  999331.062825\n30    31          0.045046  2.780193e-07  0.213246    7.526736  999331.062825\n"
     ]
    }
   ],
   "source": [
    "print(inferred_data)"
   ]
  },
  {
   "cell_type": "code",
   "execution_count": null,
   "metadata": {},
   "outputs": [],
   "source": []
  }
 ],
 "metadata": {
  "kernelspec": {
   "name": "python3",
   "display_name": "Python 3.8.5 64-bit ('env')",
   "metadata": {
    "interpreter": {
     "hash": "828c4fcbec3adef0dad10623ac364a3c89ee2564414ff512e06344a0cac9117a"
    }
   }
  },
  "language_info": {
   "codemirror_mode": {
    "name": "ipython",
    "version": 3
   },
   "file_extension": ".py",
   "mimetype": "text/x-python",
   "name": "python",
   "nbconvert_exporter": "python",
   "pygments_lexer": "ipython3",
   "version": "3.8.5-final"
  }
 },
 "nbformat": 4,
 "nbformat_minor": 2
}