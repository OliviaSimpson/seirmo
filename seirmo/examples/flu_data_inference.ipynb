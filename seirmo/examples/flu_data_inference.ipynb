{
 "metadata": {
  "language_info": {
   "codemirror_mode": {
    "name": "ipython",
    "version": 3
   },
   "file_extension": ".py",
   "mimetype": "text/x-python",
   "name": "python",
   "nbconvert_exporter": "python",
   "pygments_lexer": "ipython3",
   "version": 3
  },
  "orig_nbformat": 2
 },
 "nbformat": 4,
 "nbformat_minor": 2,
 "cells": [
  {
   "source": [
    "# Inference for flu data"
   ],
   "cell_type": "markdown",
   "metadata": {}
  },
  {
   "source": [
    "## Flu case incidences in season 2010"
   ],
   "cell_type": "markdown",
   "metadata": {}
  },
  {
   "cell_type": "code",
   "execution_count": null,
   "metadata": {},
   "outputs": [],
   "source": [
    "import numpy as np\n",
    "import pandas as pd\n",
    "\n",
    "import seirmo as se\n",
    "\n",
    "flu_data = se.DatasetLibrary().french_flu()\n",
    "flu_data = flu_data.loc[flu_data['year'] == 2010]"
   ]
  },
  {
   "cell_type": "code",
   "execution_count": null,
   "metadata": {},
   "outputs": [],
   "source": [
    "# Plot incidences data\n",
    "plot = se.IncidenceNumberPlot()\n",
    "plot.add_data(flu_data, time_key='time_index', inc_key='inc')\n",
    "plot.show()"
   ]
  },
  {
   "source": [
    "## Model parameters inference"
   ],
   "cell_type": "markdown",
   "metadata": {}
  },
  {
   "cell_type": "code",
   "execution_count": null,
   "metadata": {},
   "outputs": [],
   "source": [
    "import pints\n",
    "\n",
    "class SEIRModel(pints.ForwardModel):\n",
    "    def __init__(self):\n",
    "        super(SEIRModel, self).__init__()\n",
    "\n",
    "        self._model = se.SEIRModel()\n",
    "    \n",
    "    def n_outputs(self):\n",
    "        # Returns number of model outputs.\n",
    "        # Returns only incidence number, in line with the flu data\n",
    "        return 1\n",
    "\n",
    "    def n_parameters(self):\n",
    "        # Returns number of parameters, i.e. 4 initial condition and 3 parameters.\n",
    "        return 7\n",
    "    \n",
    "    def simulate(self, log_parameters, times):\n",
    "        output = self._model.simulate(parameters=np.exp(log_parameters), times=times, return_incidence=True)\n",
    "        n_incidence = output[:,4]\n",
    "\n",
    "        return n_incidence"
   ]
  },
  {
   "cell_type": "code",
   "execution_count": null,
   "metadata": {},
   "outputs": [],
   "source": [
    "# Guess on starting points of samplers\n",
    "parameter_guess = np.array([1e5, 5.4, 6.8e4, 0, 0.5, 0.5, 0.1])"
   ]
  },
  {
   "cell_type": "code",
   "execution_count": null,
   "metadata": {},
   "outputs": [],
   "source": [
    "# User of pints' SingleOutputProblem and GaussianLogLikelihood"
   ]
  },
  {
   "cell_type": "code",
   "execution_count": null,
   "metadata": {},
   "outputs": [],
   "source": [
    "# Create log-likelihood\n",
    "pints_model = SEIRModel()\n",
    "problem = pints.SingleOutputProblem(pints_model, times, flu_data['inc'])\n",
    "log_likelihood = pints.GaussianLogLikelihood(problem)\n",
    "\n",
    "# Run sampling routines\n",
    "optimiser = pints.OptimisationController(\n",
    "    function=log_likelihood,\n",
    "    x0=parameter_guess,\n",
    "    method=pints.CMAES\n",
    ")"
   ]
  },
  {
   "cell_type": "code",
   "execution_count": null,
   "metadata": {},
   "outputs": [],
   "source": [
    "optimiser.set_max_iterations(1000)\n",
    "\n",
    "log_estimates, _ = optimiser.run()\n",
    "estimates = np.exp(log_estimates)"
   ]
  },
  {
   "cell_type": "code",
   "execution_count": null,
   "metadata": {},
   "outputs": [],
   "source": [
    "print('Parameter names:')\n",
    "print(['Initial S', 'Initial E', 'Initial I', 'Initial R', 'Infection Rate', 'Incubation Rate', 'Recovery Rate'])\n",
    "print('Parameter estimates:')\n",
    "print(estimates)"
   ]
  },
  {
   "source": [
    "## Compare inferred model to data"
   ],
   "cell_type": "markdown",
   "metadata": {}
  },
  {
   "cell_type": "code",
   "execution_count": null,
   "metadata": {},
   "outputs": [],
   "source": [
    "inferred_result = model.simulate(parameters=estimates, times=times, return_incidence=True)\n",
    "inferred_data = pd.DataFrame({\n",
    "            'Time': flu_data['time_index'],\n",
    "            'Incidence Number': inferred_result[:, -1],\n",
    "            'Susceptible': inferred_result[:, 0],\n",
    "            'Exposed': inferred_result[:, 1],\n",
    "            'Infectious': inferred_result[:, 2],\n",
    "            'Recovered': inferred_result[:, 3],\n",
    "        })\n",
    "\n",
    "# Plot flu data vs inferred incidences data\n",
    "plot = se.SubplotFigure()\n",
    "plot.add_data(flu_data, time_key='time_index', inc_key='inc')\n",
    "plot.show()\n",
    "plot.add_simulation(inferred_data)\n",
    "plot.show()"
   ]
  }
 ]
}